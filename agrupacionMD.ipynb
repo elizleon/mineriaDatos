{
  "cells": [
    {
      "cell_type": "markdown",
      "metadata": {
        "id": "view-in-github",
        "colab_type": "text"
      },
      "source": [
        "<a href=\"https://colab.research.google.com/github/elizleon/mineriaDatos/blob/main/agrupacionMD.ipynb\" target=\"_parent\"><img src=\"https://colab.research.google.com/assets/colab-badge.svg\" alt=\"Open In Colab\"/></a>"
      ]
    },
    {
      "cell_type": "markdown",
      "metadata": {
        "id": "2GbirP0Yf5KO"
      },
      "source": [
        "<center><h1>MINERIA DE DATOS</h1>\n",
        "<strong>Taller Agrupación</strong><br />\n",
        "PROFESORA ELIZABETH LEON GUZMAN <br />\n",
        "<strong>TEMA</strong> Algoritmos de Agrupación</center>\n",
        "\n",
        "-------\n",
        "Práctica correspondiente a Agrupación (modelamiento no supervisado) usando diferentes distancias y similitudes para los algoritmos:\n",
        "\n",
        "* K-means\n",
        "* Hierarchical clustering\n",
        "--------"
      ]
    },
    {
      "cell_type": "markdown",
      "metadata": {
        "id": "uHIVpeaevvIY"
      },
      "source": [
        "## K-means"
      ]
    },
    {
      "cell_type": "markdown",
      "metadata": {
        "id": "Gt30XJeO2O-C"
      },
      "source": [
        "###Ejemplo 1\n",
        "Ejecución del algoritmo k-means en un conjunto de datos de juguete de calificaciones de películas"
      ]
    },
    {
      "cell_type": "code",
      "execution_count": null,
      "metadata": {
        "id": "y1jFlIL0pgGA",
        "colab": {
          "base_uri": "https://localhost:8080/",
          "height": 269
        },
        "outputId": "93438043-0e5a-44a9-a40c-11d8b2db89bd"
      },
      "outputs": [
        {
          "output_type": "execute_result",
          "data": {
            "text/plain": [
              "   usuario  El viaje de Chihiro  Star Wars  The Matrix  Advengers  Malefica\n",
              "0     juan                    1          5           5          4         2\n",
              "1      ana                    2          4           5          3         2\n",
              "2     luis                    2          4           4          5         3\n",
              "3    jorge                    4          2           2          3         5\n",
              "4    maría                    5          1           2          3         4\n",
              "5    oscar                    4          2           1          4         5\n",
              "6  mariana                    3          5           5          5         3"
            ],
            "text/html": [
              "\n",
              "  <div id=\"df-11cdb016-a5eb-4a50-a5c7-4331cf297e9e\">\n",
              "    <div class=\"colab-df-container\">\n",
              "      <div>\n",
              "<style scoped>\n",
              "    .dataframe tbody tr th:only-of-type {\n",
              "        vertical-align: middle;\n",
              "    }\n",
              "\n",
              "    .dataframe tbody tr th {\n",
              "        vertical-align: top;\n",
              "    }\n",
              "\n",
              "    .dataframe thead th {\n",
              "        text-align: right;\n",
              "    }\n",
              "</style>\n",
              "<table border=\"1\" class=\"dataframe\">\n",
              "  <thead>\n",
              "    <tr style=\"text-align: right;\">\n",
              "      <th></th>\n",
              "      <th>usuario</th>\n",
              "      <th>El viaje de Chihiro</th>\n",
              "      <th>Star Wars</th>\n",
              "      <th>The Matrix</th>\n",
              "      <th>Advengers</th>\n",
              "      <th>Malefica</th>\n",
              "    </tr>\n",
              "  </thead>\n",
              "  <tbody>\n",
              "    <tr>\n",
              "      <th>0</th>\n",
              "      <td>juan</td>\n",
              "      <td>1</td>\n",
              "      <td>5</td>\n",
              "      <td>5</td>\n",
              "      <td>4</td>\n",
              "      <td>2</td>\n",
              "    </tr>\n",
              "    <tr>\n",
              "      <th>1</th>\n",
              "      <td>ana</td>\n",
              "      <td>2</td>\n",
              "      <td>4</td>\n",
              "      <td>5</td>\n",
              "      <td>3</td>\n",
              "      <td>2</td>\n",
              "    </tr>\n",
              "    <tr>\n",
              "      <th>2</th>\n",
              "      <td>luis</td>\n",
              "      <td>2</td>\n",
              "      <td>4</td>\n",
              "      <td>4</td>\n",
              "      <td>5</td>\n",
              "      <td>3</td>\n",
              "    </tr>\n",
              "    <tr>\n",
              "      <th>3</th>\n",
              "      <td>jorge</td>\n",
              "      <td>4</td>\n",
              "      <td>2</td>\n",
              "      <td>2</td>\n",
              "      <td>3</td>\n",
              "      <td>5</td>\n",
              "    </tr>\n",
              "    <tr>\n",
              "      <th>4</th>\n",
              "      <td>maría</td>\n",
              "      <td>5</td>\n",
              "      <td>1</td>\n",
              "      <td>2</td>\n",
              "      <td>3</td>\n",
              "      <td>4</td>\n",
              "    </tr>\n",
              "    <tr>\n",
              "      <th>5</th>\n",
              "      <td>oscar</td>\n",
              "      <td>4</td>\n",
              "      <td>2</td>\n",
              "      <td>1</td>\n",
              "      <td>4</td>\n",
              "      <td>5</td>\n",
              "    </tr>\n",
              "    <tr>\n",
              "      <th>6</th>\n",
              "      <td>mariana</td>\n",
              "      <td>3</td>\n",
              "      <td>5</td>\n",
              "      <td>5</td>\n",
              "      <td>5</td>\n",
              "      <td>3</td>\n",
              "    </tr>\n",
              "  </tbody>\n",
              "</table>\n",
              "</div>\n",
              "      <button class=\"colab-df-convert\" onclick=\"convertToInteractive('df-11cdb016-a5eb-4a50-a5c7-4331cf297e9e')\"\n",
              "              title=\"Convert this dataframe to an interactive table.\"\n",
              "              style=\"display:none;\">\n",
              "        \n",
              "  <svg xmlns=\"http://www.w3.org/2000/svg\" height=\"24px\"viewBox=\"0 0 24 24\"\n",
              "       width=\"24px\">\n",
              "    <path d=\"M0 0h24v24H0V0z\" fill=\"none\"/>\n",
              "    <path d=\"M18.56 5.44l.94 2.06.94-2.06 2.06-.94-2.06-.94-.94-2.06-.94 2.06-2.06.94zm-11 1L8.5 8.5l.94-2.06 2.06-.94-2.06-.94L8.5 2.5l-.94 2.06-2.06.94zm10 10l.94 2.06.94-2.06 2.06-.94-2.06-.94-.94-2.06-.94 2.06-2.06.94z\"/><path d=\"M17.41 7.96l-1.37-1.37c-.4-.4-.92-.59-1.43-.59-.52 0-1.04.2-1.43.59L10.3 9.45l-7.72 7.72c-.78.78-.78 2.05 0 2.83L4 21.41c.39.39.9.59 1.41.59.51 0 1.02-.2 1.41-.59l7.78-7.78 2.81-2.81c.8-.78.8-2.07 0-2.86zM5.41 20L4 18.59l7.72-7.72 1.47 1.35L5.41 20z\"/>\n",
              "  </svg>\n",
              "      </button>\n",
              "      \n",
              "  <style>\n",
              "    .colab-df-container {\n",
              "      display:flex;\n",
              "      flex-wrap:wrap;\n",
              "      gap: 12px;\n",
              "    }\n",
              "\n",
              "    .colab-df-convert {\n",
              "      background-color: #E8F0FE;\n",
              "      border: none;\n",
              "      border-radius: 50%;\n",
              "      cursor: pointer;\n",
              "      display: none;\n",
              "      fill: #1967D2;\n",
              "      height: 32px;\n",
              "      padding: 0 0 0 0;\n",
              "      width: 32px;\n",
              "    }\n",
              "\n",
              "    .colab-df-convert:hover {\n",
              "      background-color: #E2EBFA;\n",
              "      box-shadow: 0px 1px 2px rgba(60, 64, 67, 0.3), 0px 1px 3px 1px rgba(60, 64, 67, 0.15);\n",
              "      fill: #174EA6;\n",
              "    }\n",
              "\n",
              "    [theme=dark] .colab-df-convert {\n",
              "      background-color: #3B4455;\n",
              "      fill: #D2E3FC;\n",
              "    }\n",
              "\n",
              "    [theme=dark] .colab-df-convert:hover {\n",
              "      background-color: #434B5C;\n",
              "      box-shadow: 0px 1px 3px 1px rgba(0, 0, 0, 0.15);\n",
              "      filter: drop-shadow(0px 1px 2px rgba(0, 0, 0, 0.3));\n",
              "      fill: #FFFFFF;\n",
              "    }\n",
              "  </style>\n",
              "\n",
              "      <script>\n",
              "        const buttonEl =\n",
              "          document.querySelector('#df-11cdb016-a5eb-4a50-a5c7-4331cf297e9e button.colab-df-convert');\n",
              "        buttonEl.style.display =\n",
              "          google.colab.kernel.accessAllowed ? 'block' : 'none';\n",
              "\n",
              "        async function convertToInteractive(key) {\n",
              "          const element = document.querySelector('#df-11cdb016-a5eb-4a50-a5c7-4331cf297e9e');\n",
              "          const dataTable =\n",
              "            await google.colab.kernel.invokeFunction('convertToInteractive',\n",
              "                                                     [key], {});\n",
              "          if (!dataTable) return;\n",
              "\n",
              "          const docLinkHtml = 'Like what you see? Visit the ' +\n",
              "            '<a target=\"_blank\" href=https://colab.research.google.com/notebooks/data_table.ipynb>data table notebook</a>'\n",
              "            + ' to learn more about interactive tables.';\n",
              "          element.innerHTML = '';\n",
              "          dataTable['output_type'] = 'display_data';\n",
              "          await google.colab.output.renderOutput(dataTable, element);\n",
              "          const docLink = document.createElement('div');\n",
              "          docLink.innerHTML = docLinkHtml;\n",
              "          element.appendChild(docLink);\n",
              "        }\n",
              "      </script>\n",
              "    </div>\n",
              "  </div>\n",
              "  "
            ]
          },
          "metadata": {},
          "execution_count": 1
        }
      ],
      "source": [
        "#Se crea el conjunto de datos y se visualiza\n",
        "import pandas as pd\n",
        "\n",
        "titulos = ['usuario','El viaje de Chihiro','Star Wars','The Matrix','Advengers','Malefica']\n",
        "puntajes = [['juan',1,5,5,4,2],['ana',2,4,5,3,2],['luis',2,4,4,5,3],['jorge',4,2,2,3,5],['maría',5,1,2,3,4],['oscar',4,2,1,4,5],['mariana',3,5,5,5,3]]\n",
        "peliculas = pd.DataFrame(puntajes,columns=titulos)\n",
        "peliculas"
      ]
    },
    {
      "cell_type": "markdown",
      "metadata": {
        "id": "DBe2RBwx1LD5"
      },
      "source": [
        "Para este conjunto de dtaos los tres primeros usuarios y el últomo les gusta las películas de acción, mientras a los tres usuarios restantes les gusta películas de drama. La idea es aplicar el algoritmo de k-means para encontrar los dos grupos de usuarios con preferencias similares de películas. Es necesario remover la primera columna, correspondiente al usuario, ya que no es importante para la agrupación. "
      ]
    },
    {
      "cell_type": "code",
      "execution_count": null,
      "metadata": {
        "id": "m2IvNR2w0zRe",
        "colab": {
          "base_uri": "https://localhost:8080/",
          "height": 300
        },
        "outputId": "8ea1b33b-8c50-4141-f3f6-5e225744092d"
      },
      "outputs": [
        {
          "output_type": "execute_result",
          "data": {
            "text/plain": [
              "         ID Grupo\n",
              "usuario          \n",
              "juan            1\n",
              "ana             1\n",
              "luis            1\n",
              "jorge           0\n",
              "maría           0\n",
              "oscar           0\n",
              "mariana         1"
            ],
            "text/html": [
              "\n",
              "  <div id=\"df-d90cd391-afd7-49a1-b6a8-aa931064b0ed\">\n",
              "    <div class=\"colab-df-container\">\n",
              "      <div>\n",
              "<style scoped>\n",
              "    .dataframe tbody tr th:only-of-type {\n",
              "        vertical-align: middle;\n",
              "    }\n",
              "\n",
              "    .dataframe tbody tr th {\n",
              "        vertical-align: top;\n",
              "    }\n",
              "\n",
              "    .dataframe thead th {\n",
              "        text-align: right;\n",
              "    }\n",
              "</style>\n",
              "<table border=\"1\" class=\"dataframe\">\n",
              "  <thead>\n",
              "    <tr style=\"text-align: right;\">\n",
              "      <th></th>\n",
              "      <th>ID Grupo</th>\n",
              "    </tr>\n",
              "    <tr>\n",
              "      <th>usuario</th>\n",
              "      <th></th>\n",
              "    </tr>\n",
              "  </thead>\n",
              "  <tbody>\n",
              "    <tr>\n",
              "      <th>juan</th>\n",
              "      <td>1</td>\n",
              "    </tr>\n",
              "    <tr>\n",
              "      <th>ana</th>\n",
              "      <td>1</td>\n",
              "    </tr>\n",
              "    <tr>\n",
              "      <th>luis</th>\n",
              "      <td>1</td>\n",
              "    </tr>\n",
              "    <tr>\n",
              "      <th>jorge</th>\n",
              "      <td>0</td>\n",
              "    </tr>\n",
              "    <tr>\n",
              "      <th>maría</th>\n",
              "      <td>0</td>\n",
              "    </tr>\n",
              "    <tr>\n",
              "      <th>oscar</th>\n",
              "      <td>0</td>\n",
              "    </tr>\n",
              "    <tr>\n",
              "      <th>mariana</th>\n",
              "      <td>1</td>\n",
              "    </tr>\n",
              "  </tbody>\n",
              "</table>\n",
              "</div>\n",
              "      <button class=\"colab-df-convert\" onclick=\"convertToInteractive('df-d90cd391-afd7-49a1-b6a8-aa931064b0ed')\"\n",
              "              title=\"Convert this dataframe to an interactive table.\"\n",
              "              style=\"display:none;\">\n",
              "        \n",
              "  <svg xmlns=\"http://www.w3.org/2000/svg\" height=\"24px\"viewBox=\"0 0 24 24\"\n",
              "       width=\"24px\">\n",
              "    <path d=\"M0 0h24v24H0V0z\" fill=\"none\"/>\n",
              "    <path d=\"M18.56 5.44l.94 2.06.94-2.06 2.06-.94-2.06-.94-.94-2.06-.94 2.06-2.06.94zm-11 1L8.5 8.5l.94-2.06 2.06-.94-2.06-.94L8.5 2.5l-.94 2.06-2.06.94zm10 10l.94 2.06.94-2.06 2.06-.94-2.06-.94-.94-2.06-.94 2.06-2.06.94z\"/><path d=\"M17.41 7.96l-1.37-1.37c-.4-.4-.92-.59-1.43-.59-.52 0-1.04.2-1.43.59L10.3 9.45l-7.72 7.72c-.78.78-.78 2.05 0 2.83L4 21.41c.39.39.9.59 1.41.59.51 0 1.02-.2 1.41-.59l7.78-7.78 2.81-2.81c.8-.78.8-2.07 0-2.86zM5.41 20L4 18.59l7.72-7.72 1.47 1.35L5.41 20z\"/>\n",
              "  </svg>\n",
              "      </button>\n",
              "      \n",
              "  <style>\n",
              "    .colab-df-container {\n",
              "      display:flex;\n",
              "      flex-wrap:wrap;\n",
              "      gap: 12px;\n",
              "    }\n",
              "\n",
              "    .colab-df-convert {\n",
              "      background-color: #E8F0FE;\n",
              "      border: none;\n",
              "      border-radius: 50%;\n",
              "      cursor: pointer;\n",
              "      display: none;\n",
              "      fill: #1967D2;\n",
              "      height: 32px;\n",
              "      padding: 0 0 0 0;\n",
              "      width: 32px;\n",
              "    }\n",
              "\n",
              "    .colab-df-convert:hover {\n",
              "      background-color: #E2EBFA;\n",
              "      box-shadow: 0px 1px 2px rgba(60, 64, 67, 0.3), 0px 1px 3px 1px rgba(60, 64, 67, 0.15);\n",
              "      fill: #174EA6;\n",
              "    }\n",
              "\n",
              "    [theme=dark] .colab-df-convert {\n",
              "      background-color: #3B4455;\n",
              "      fill: #D2E3FC;\n",
              "    }\n",
              "\n",
              "    [theme=dark] .colab-df-convert:hover {\n",
              "      background-color: #434B5C;\n",
              "      box-shadow: 0px 1px 3px 1px rgba(0, 0, 0, 0.15);\n",
              "      filter: drop-shadow(0px 1px 2px rgba(0, 0, 0, 0.3));\n",
              "      fill: #FFFFFF;\n",
              "    }\n",
              "  </style>\n",
              "\n",
              "      <script>\n",
              "        const buttonEl =\n",
              "          document.querySelector('#df-d90cd391-afd7-49a1-b6a8-aa931064b0ed button.colab-df-convert');\n",
              "        buttonEl.style.display =\n",
              "          google.colab.kernel.accessAllowed ? 'block' : 'none';\n",
              "\n",
              "        async function convertToInteractive(key) {\n",
              "          const element = document.querySelector('#df-d90cd391-afd7-49a1-b6a8-aa931064b0ed');\n",
              "          const dataTable =\n",
              "            await google.colab.kernel.invokeFunction('convertToInteractive',\n",
              "                                                     [key], {});\n",
              "          if (!dataTable) return;\n",
              "\n",
              "          const docLinkHtml = 'Like what you see? Visit the ' +\n",
              "            '<a target=\"_blank\" href=https://colab.research.google.com/notebooks/data_table.ipynb>data table notebook</a>'\n",
              "            + ' to learn more about interactive tables.';\n",
              "          element.innerHTML = '';\n",
              "          dataTable['output_type'] = 'display_data';\n",
              "          await google.colab.output.renderOutput(dataTable, element);\n",
              "          const docLink = document.createElement('div');\n",
              "          docLink.innerHTML = docLinkHtml;\n",
              "          element.appendChild(docLink);\n",
              "        }\n",
              "      </script>\n",
              "    </div>\n",
              "  </div>\n",
              "  "
            ]
          },
          "metadata": {},
          "execution_count": 2
        }
      ],
      "source": [
        "# Se importa los algoritmos de grupación de la libreria de sklearn\n",
        "from sklearn import cluster\n",
        "\n",
        "data = peliculas.drop('usuario',axis=1)\n",
        "k_means = cluster.KMeans(n_clusters=2, max_iter=50, random_state=1)\n",
        "k_means.fit(data) \n",
        "labels = k_means.labels_\n",
        "# La asignación de grupo a cada usuario es visualizada como un objeto dataframe\n",
        "pd.DataFrame(labels, index=peliculas.usuario, columns=['ID Grupo'])"
      ]
    },
    {
      "cell_type": "markdown",
      "metadata": {
        "id": "_loqPQQx2-Vw"
      },
      "source": [
        "Los redultados de la agrupación son lo esperado: el algoritmo asignó los tres primeros usuarios y el último al cluster 1, y los otros tres usuarios al cluster 0."
      ]
    },
    {
      "cell_type": "code",
      "execution_count": null,
      "metadata": {
        "id": "9opGTwco2uVc"
      },
      "outputs": [],
      "source": [
        "#Visualización de los centroides de los grupos:"
      ]
    },
    {
      "cell_type": "code",
      "execution_count": null,
      "metadata": {
        "id": "fWFv1_l-2yFd",
        "colab": {
          "base_uri": "https://localhost:8080/",
          "height": 112
        },
        "outputId": "e23024c2-19e5-484c-d989-f3893ddfe2a7"
      },
      "outputs": [
        {
          "output_type": "execute_result",
          "data": {
            "text/plain": [
              "   El viaje de Chihiro  Star Wars  The Matrix  Advengers  Malefica\n",
              "0             4.333333   1.666667    1.666667   3.333333  4.666667\n",
              "1             2.000000   4.500000    4.750000   4.250000  2.500000"
            ],
            "text/html": [
              "\n",
              "  <div id=\"df-4851a160-4240-44df-ad56-8d42396657d2\">\n",
              "    <div class=\"colab-df-container\">\n",
              "      <div>\n",
              "<style scoped>\n",
              "    .dataframe tbody tr th:only-of-type {\n",
              "        vertical-align: middle;\n",
              "    }\n",
              "\n",
              "    .dataframe tbody tr th {\n",
              "        vertical-align: top;\n",
              "    }\n",
              "\n",
              "    .dataframe thead th {\n",
              "        text-align: right;\n",
              "    }\n",
              "</style>\n",
              "<table border=\"1\" class=\"dataframe\">\n",
              "  <thead>\n",
              "    <tr style=\"text-align: right;\">\n",
              "      <th></th>\n",
              "      <th>El viaje de Chihiro</th>\n",
              "      <th>Star Wars</th>\n",
              "      <th>The Matrix</th>\n",
              "      <th>Advengers</th>\n",
              "      <th>Malefica</th>\n",
              "    </tr>\n",
              "  </thead>\n",
              "  <tbody>\n",
              "    <tr>\n",
              "      <th>0</th>\n",
              "      <td>4.333333</td>\n",
              "      <td>1.666667</td>\n",
              "      <td>1.666667</td>\n",
              "      <td>3.333333</td>\n",
              "      <td>4.666667</td>\n",
              "    </tr>\n",
              "    <tr>\n",
              "      <th>1</th>\n",
              "      <td>2.000000</td>\n",
              "      <td>4.500000</td>\n",
              "      <td>4.750000</td>\n",
              "      <td>4.250000</td>\n",
              "      <td>2.500000</td>\n",
              "    </tr>\n",
              "  </tbody>\n",
              "</table>\n",
              "</div>\n",
              "      <button class=\"colab-df-convert\" onclick=\"convertToInteractive('df-4851a160-4240-44df-ad56-8d42396657d2')\"\n",
              "              title=\"Convert this dataframe to an interactive table.\"\n",
              "              style=\"display:none;\">\n",
              "        \n",
              "  <svg xmlns=\"http://www.w3.org/2000/svg\" height=\"24px\"viewBox=\"0 0 24 24\"\n",
              "       width=\"24px\">\n",
              "    <path d=\"M0 0h24v24H0V0z\" fill=\"none\"/>\n",
              "    <path d=\"M18.56 5.44l.94 2.06.94-2.06 2.06-.94-2.06-.94-.94-2.06-.94 2.06-2.06.94zm-11 1L8.5 8.5l.94-2.06 2.06-.94-2.06-.94L8.5 2.5l-.94 2.06-2.06.94zm10 10l.94 2.06.94-2.06 2.06-.94-2.06-.94-.94-2.06-.94 2.06-2.06.94z\"/><path d=\"M17.41 7.96l-1.37-1.37c-.4-.4-.92-.59-1.43-.59-.52 0-1.04.2-1.43.59L10.3 9.45l-7.72 7.72c-.78.78-.78 2.05 0 2.83L4 21.41c.39.39.9.59 1.41.59.51 0 1.02-.2 1.41-.59l7.78-7.78 2.81-2.81c.8-.78.8-2.07 0-2.86zM5.41 20L4 18.59l7.72-7.72 1.47 1.35L5.41 20z\"/>\n",
              "  </svg>\n",
              "      </button>\n",
              "      \n",
              "  <style>\n",
              "    .colab-df-container {\n",
              "      display:flex;\n",
              "      flex-wrap:wrap;\n",
              "      gap: 12px;\n",
              "    }\n",
              "\n",
              "    .colab-df-convert {\n",
              "      background-color: #E8F0FE;\n",
              "      border: none;\n",
              "      border-radius: 50%;\n",
              "      cursor: pointer;\n",
              "      display: none;\n",
              "      fill: #1967D2;\n",
              "      height: 32px;\n",
              "      padding: 0 0 0 0;\n",
              "      width: 32px;\n",
              "    }\n",
              "\n",
              "    .colab-df-convert:hover {\n",
              "      background-color: #E2EBFA;\n",
              "      box-shadow: 0px 1px 2px rgba(60, 64, 67, 0.3), 0px 1px 3px 1px rgba(60, 64, 67, 0.15);\n",
              "      fill: #174EA6;\n",
              "    }\n",
              "\n",
              "    [theme=dark] .colab-df-convert {\n",
              "      background-color: #3B4455;\n",
              "      fill: #D2E3FC;\n",
              "    }\n",
              "\n",
              "    [theme=dark] .colab-df-convert:hover {\n",
              "      background-color: #434B5C;\n",
              "      box-shadow: 0px 1px 3px 1px rgba(0, 0, 0, 0.15);\n",
              "      filter: drop-shadow(0px 1px 2px rgba(0, 0, 0, 0.3));\n",
              "      fill: #FFFFFF;\n",
              "    }\n",
              "  </style>\n",
              "\n",
              "      <script>\n",
              "        const buttonEl =\n",
              "          document.querySelector('#df-4851a160-4240-44df-ad56-8d42396657d2 button.colab-df-convert');\n",
              "        buttonEl.style.display =\n",
              "          google.colab.kernel.accessAllowed ? 'block' : 'none';\n",
              "\n",
              "        async function convertToInteractive(key) {\n",
              "          const element = document.querySelector('#df-4851a160-4240-44df-ad56-8d42396657d2');\n",
              "          const dataTable =\n",
              "            await google.colab.kernel.invokeFunction('convertToInteractive',\n",
              "                                                     [key], {});\n",
              "          if (!dataTable) return;\n",
              "\n",
              "          const docLinkHtml = 'Like what you see? Visit the ' +\n",
              "            '<a target=\"_blank\" href=https://colab.research.google.com/notebooks/data_table.ipynb>data table notebook</a>'\n",
              "            + ' to learn more about interactive tables.';\n",
              "          element.innerHTML = '';\n",
              "          dataTable['output_type'] = 'display_data';\n",
              "          await google.colab.output.renderOutput(dataTable, element);\n",
              "          const docLink = document.createElement('div');\n",
              "          docLink.innerHTML = docLinkHtml;\n",
              "          element.appendChild(docLink);\n",
              "        }\n",
              "      </script>\n",
              "    </div>\n",
              "  </div>\n",
              "  "
            ]
          },
          "metadata": {},
          "execution_count": 4
        }
      ],
      "source": [
        "centroids = k_means.cluster_centers_\n",
        "pd.DataFrame(centroids,columns=data.columns)"
      ]
    },
    {
      "cell_type": "markdown",
      "metadata": {
        "id": "fWvjC0-l6sZ9"
      },
      "source": [
        "El grupo 0 corresponde con el perfil del usuario que prefiere las películas de drama, mientras el grupo 1 correponde con el perfil de usuarios que prefiere películas de acción."
      ]
    },
    {
      "cell_type": "markdown",
      "metadata": {
        "id": "I_61uSFb69f5"
      },
      "source": [
        "Estos centroides son el modelo de agrupación, por lo que pueden ser usados para predecir el perfil de un nuevo usuario de acuerdo a la calificación que le asigne a las películas. Por ejemplo, se tienen las siguientes nuevas calificaciones:"
      ]
    },
    {
      "cell_type": "code",
      "execution_count": null,
      "metadata": {
        "id": "9XsnO7Az7QdY",
        "colab": {
          "base_uri": "https://localhost:8080/",
          "height": 241
        },
        "outputId": "bc860743-b3f6-415f-cc51-5f80d98dcd1c"
      },
      "outputs": [
        {
          "output_type": "stream",
          "name": "stderr",
          "text": [
            "/usr/local/lib/python3.7/dist-packages/sklearn/base.py:451: UserWarning: X does not have valid feature names, but KMeans was fitted with feature names\n",
            "  \"X does not have valid feature names, but\"\n"
          ]
        },
        {
          "output_type": "execute_result",
          "data": {
            "text/plain": [
              "  usuario El viaje de Chihiro Star Wars The Matrix Advengers Malefica  \\\n",
              "0   pedro                   1         4          5         4        2   \n",
              "1   marco                   5         3          2         2        4   \n",
              "2     liz                   4         2          3         3        1   \n",
              "3    nico                   3         3          2         3        3   \n",
              "4   ligia                   4         5          4         1        4   \n",
              "\n",
              "  Cluster ID  \n",
              "0          1  \n",
              "1          0  \n",
              "2          0  \n",
              "3          0  \n",
              "4          1  "
            ],
            "text/html": [
              "\n",
              "  <div id=\"df-f66b7a83-c59f-4855-b40a-ea120f83fd2b\">\n",
              "    <div class=\"colab-df-container\">\n",
              "      <div>\n",
              "<style scoped>\n",
              "    .dataframe tbody tr th:only-of-type {\n",
              "        vertical-align: middle;\n",
              "    }\n",
              "\n",
              "    .dataframe tbody tr th {\n",
              "        vertical-align: top;\n",
              "    }\n",
              "\n",
              "    .dataframe thead th {\n",
              "        text-align: right;\n",
              "    }\n",
              "</style>\n",
              "<table border=\"1\" class=\"dataframe\">\n",
              "  <thead>\n",
              "    <tr style=\"text-align: right;\">\n",
              "      <th></th>\n",
              "      <th>usuario</th>\n",
              "      <th>El viaje de Chihiro</th>\n",
              "      <th>Star Wars</th>\n",
              "      <th>The Matrix</th>\n",
              "      <th>Advengers</th>\n",
              "      <th>Malefica</th>\n",
              "      <th>Cluster ID</th>\n",
              "    </tr>\n",
              "  </thead>\n",
              "  <tbody>\n",
              "    <tr>\n",
              "      <th>0</th>\n",
              "      <td>pedro</td>\n",
              "      <td>1</td>\n",
              "      <td>4</td>\n",
              "      <td>5</td>\n",
              "      <td>4</td>\n",
              "      <td>2</td>\n",
              "      <td>1</td>\n",
              "    </tr>\n",
              "    <tr>\n",
              "      <th>1</th>\n",
              "      <td>marco</td>\n",
              "      <td>5</td>\n",
              "      <td>3</td>\n",
              "      <td>2</td>\n",
              "      <td>2</td>\n",
              "      <td>4</td>\n",
              "      <td>0</td>\n",
              "    </tr>\n",
              "    <tr>\n",
              "      <th>2</th>\n",
              "      <td>liz</td>\n",
              "      <td>4</td>\n",
              "      <td>2</td>\n",
              "      <td>3</td>\n",
              "      <td>3</td>\n",
              "      <td>1</td>\n",
              "      <td>0</td>\n",
              "    </tr>\n",
              "    <tr>\n",
              "      <th>3</th>\n",
              "      <td>nico</td>\n",
              "      <td>3</td>\n",
              "      <td>3</td>\n",
              "      <td>2</td>\n",
              "      <td>3</td>\n",
              "      <td>3</td>\n",
              "      <td>0</td>\n",
              "    </tr>\n",
              "    <tr>\n",
              "      <th>4</th>\n",
              "      <td>ligia</td>\n",
              "      <td>4</td>\n",
              "      <td>5</td>\n",
              "      <td>4</td>\n",
              "      <td>1</td>\n",
              "      <td>4</td>\n",
              "      <td>1</td>\n",
              "    </tr>\n",
              "  </tbody>\n",
              "</table>\n",
              "</div>\n",
              "      <button class=\"colab-df-convert\" onclick=\"convertToInteractive('df-f66b7a83-c59f-4855-b40a-ea120f83fd2b')\"\n",
              "              title=\"Convert this dataframe to an interactive table.\"\n",
              "              style=\"display:none;\">\n",
              "        \n",
              "  <svg xmlns=\"http://www.w3.org/2000/svg\" height=\"24px\"viewBox=\"0 0 24 24\"\n",
              "       width=\"24px\">\n",
              "    <path d=\"M0 0h24v24H0V0z\" fill=\"none\"/>\n",
              "    <path d=\"M18.56 5.44l.94 2.06.94-2.06 2.06-.94-2.06-.94-.94-2.06-.94 2.06-2.06.94zm-11 1L8.5 8.5l.94-2.06 2.06-.94-2.06-.94L8.5 2.5l-.94 2.06-2.06.94zm10 10l.94 2.06.94-2.06 2.06-.94-2.06-.94-.94-2.06-.94 2.06-2.06.94z\"/><path d=\"M17.41 7.96l-1.37-1.37c-.4-.4-.92-.59-1.43-.59-.52 0-1.04.2-1.43.59L10.3 9.45l-7.72 7.72c-.78.78-.78 2.05 0 2.83L4 21.41c.39.39.9.59 1.41.59.51 0 1.02-.2 1.41-.59l7.78-7.78 2.81-2.81c.8-.78.8-2.07 0-2.86zM5.41 20L4 18.59l7.72-7.72 1.47 1.35L5.41 20z\"/>\n",
              "  </svg>\n",
              "      </button>\n",
              "      \n",
              "  <style>\n",
              "    .colab-df-container {\n",
              "      display:flex;\n",
              "      flex-wrap:wrap;\n",
              "      gap: 12px;\n",
              "    }\n",
              "\n",
              "    .colab-df-convert {\n",
              "      background-color: #E8F0FE;\n",
              "      border: none;\n",
              "      border-radius: 50%;\n",
              "      cursor: pointer;\n",
              "      display: none;\n",
              "      fill: #1967D2;\n",
              "      height: 32px;\n",
              "      padding: 0 0 0 0;\n",
              "      width: 32px;\n",
              "    }\n",
              "\n",
              "    .colab-df-convert:hover {\n",
              "      background-color: #E2EBFA;\n",
              "      box-shadow: 0px 1px 2px rgba(60, 64, 67, 0.3), 0px 1px 3px 1px rgba(60, 64, 67, 0.15);\n",
              "      fill: #174EA6;\n",
              "    }\n",
              "\n",
              "    [theme=dark] .colab-df-convert {\n",
              "      background-color: #3B4455;\n",
              "      fill: #D2E3FC;\n",
              "    }\n",
              "\n",
              "    [theme=dark] .colab-df-convert:hover {\n",
              "      background-color: #434B5C;\n",
              "      box-shadow: 0px 1px 3px 1px rgba(0, 0, 0, 0.15);\n",
              "      filter: drop-shadow(0px 1px 2px rgba(0, 0, 0, 0.3));\n",
              "      fill: #FFFFFF;\n",
              "    }\n",
              "  </style>\n",
              "\n",
              "      <script>\n",
              "        const buttonEl =\n",
              "          document.querySelector('#df-f66b7a83-c59f-4855-b40a-ea120f83fd2b button.colab-df-convert');\n",
              "        buttonEl.style.display =\n",
              "          google.colab.kernel.accessAllowed ? 'block' : 'none';\n",
              "\n",
              "        async function convertToInteractive(key) {\n",
              "          const element = document.querySelector('#df-f66b7a83-c59f-4855-b40a-ea120f83fd2b');\n",
              "          const dataTable =\n",
              "            await google.colab.kernel.invokeFunction('convertToInteractive',\n",
              "                                                     [key], {});\n",
              "          if (!dataTable) return;\n",
              "\n",
              "          const docLinkHtml = 'Like what you see? Visit the ' +\n",
              "            '<a target=\"_blank\" href=https://colab.research.google.com/notebooks/data_table.ipynb>data table notebook</a>'\n",
              "            + ' to learn more about interactive tables.';\n",
              "          element.innerHTML = '';\n",
              "          dataTable['output_type'] = 'display_data';\n",
              "          await google.colab.output.renderOutput(dataTable, element);\n",
              "          const docLink = document.createElement('div');\n",
              "          docLink.innerHTML = docLinkHtml;\n",
              "          element.appendChild(docLink);\n",
              "        }\n",
              "      </script>\n",
              "    </div>\n",
              "  </div>\n",
              "  "
            ]
          },
          "metadata": {},
          "execution_count": 5
        }
      ],
      "source": [
        "import numpy as np\n",
        "\n",
        "testData = np.array([[1,4,5,4,2],[5,3,2,2,4],[4,2,3,3,1],[3,3,2,3,3],[4,5,4,1,4]])\n",
        "labels = k_means.predict(testData)\n",
        "labels = labels.reshape(-1,1)\n",
        "usernames = np.array(['pedro','marco','liz','nico','ligia']).reshape(-1,1)\n",
        "cols = peliculas.columns.tolist()\n",
        "cols.append('Cluster ID')\n",
        "newusers = pd.DataFrame(np.concatenate((usernames, testData, labels), axis=1),columns=cols)\n",
        "newusers"
      ]
    },
    {
      "cell_type": "markdown",
      "metadata": {
        "id": "Gjk5Cfch2dZ9"
      },
      "source": [
        "### Ejemplo 2\n",
        "Ejecución del algoritmo k-means a un conjunto de datos sintetico de dos dimensiones numéricas, de 1000 puntos"
      ]
    },
    {
      "cell_type": "code",
      "execution_count": null,
      "metadata": {
        "id": "GrILKJ7NsDTZ"
      },
      "outputs": [],
      "source": [
        "# Importar funciones y conjunto de datos\n",
        "\n",
        "import pandas as pd\n",
        "from sklearn import cluster\n",
        "#from sklearn.metrics import silhouette_samples, silhouette_score\n",
        "import matplotlib.cm as cm\n",
        "import matplotlib.pyplot as plt"
      ]
    },
    {
      "cell_type": "code",
      "execution_count": null,
      "metadata": {
        "id": "tt8g8o_rCVcO"
      },
      "outputs": [],
      "source": [
        "X = pd.read_csv(\"cluster1.csv\")\n",
        "X[\"x0\"] = [float(str(i).replace(\",\", \"\")) for i in X[\"x0\"]]"
      ]
    },
    {
      "cell_type": "markdown",
      "metadata": {
        "id": "sSHCibGCtO8_"
      },
      "source": [
        "La función predict asigna clusters a los ejemplos\n",
        "\n"
      ]
    },
    {
      "cell_type": "code",
      "execution_count": null,
      "metadata": {
        "id": "df4deyxqtVHq",
        "colab": {
          "base_uri": "https://localhost:8080/"
        },
        "outputId": "b7a13cde-7bfc-4790-b327-cbbeff54085c"
      },
      "outputs": [
        {
          "output_type": "execute_result",
          "data": {
            "text/plain": [
              "(500, 2)"
            ]
          },
          "metadata": {},
          "execution_count": 41
        }
      ],
      "source": [
        "# Lee el archivo de puntos\n",
        "\n",
        "n_clusters = 2\n",
        "# ejecuta el k-means con k=2\n",
        "km = cluster.KMeans(n_clusters=2)\n",
        "km.fit(X)\n",
        "y = km.predict(X)\n",
        "X.shape"
      ]
    },
    {
      "cell_type": "code",
      "execution_count": null,
      "metadata": {
        "id": "20TxHFEYurHE",
        "colab": {
          "base_uri": "https://localhost:8080/"
        },
        "outputId": "03feb3cf-8fca-4840-87c0-1b3d8f50cb25"
      },
      "outputs": [
        {
          "output_type": "execute_result",
          "data": {
            "text/plain": [
              "array([[ 8.01615594,  9.85357474],\n",
              "       [ 4.5061742 , -0.68473232]])"
            ]
          },
          "metadata": {},
          "execution_count": 42
        }
      ],
      "source": [
        "#Lista los centroides de los clusters\n",
        "km.cluster_centers_\n"
      ]
    },
    {
      "cell_type": "code",
      "execution_count": null,
      "metadata": {
        "id": "31j6mEtTu2gQ",
        "outputId": "8a01a39b-e101-494d-ae25-9f0482f388a0",
        "colab": {
          "base_uri": "https://localhost:8080/",
          "height": 279
        }
      },
      "outputs": [
        {
          "output_type": "display_data",
          "data": {
            "text/plain": [
              "<Figure size 432x288 with 1 Axes>"
            ],
            "image/png": "[encoded data removed]"
          },
          "metadata": {
            "needs_background": "light"
          }
        }
      ],
      "source": [
        "cmap = plt.cm.plasma\n",
        "\n",
        "cmap((y*255./(n_clusters-1)).astype(int))\n",
        "for i in np.unique(y):\n",
        "    cmap = plt.cm.bwr\n",
        "    col = cmap((i*255./(n_clusters-1)).astype(int))\n",
        "    Xr = X[y==i]\n",
        "    plt.scatter(Xr[\"x0\"], Xr[\"x1\"], color=col, label=\"cluster %d\"%i, alpha=.5)\n",
        "plt.scatter(km.cluster_centers_[:,0], km.cluster_centers_[:,1],marker=\"x\", lw=5, s=200, color=\"black\")\n",
        "plt.legend()    \n",
        "plt.xlabel(\"anchura del trilobite\")\n",
        "plt.ylabel(\"largo del trilobite\");"
      ]
    },
    {
      "cell_type": "markdown",
      "metadata": {
        "id": "4ij2TnWq-cQW"
      },
      "source": [
        "## Iteración del kmeans"
      ]
    },
    {
      "cell_type": "code",
      "execution_count": null,
      "metadata": {
        "colab": {
          "base_uri": "https://localhost:8080/",
          "height": 461
        },
        "id": "zOF5Vemr9BnS",
        "outputId": "adb3b70e-248c-436b-f7b4-2a39d10b9c40"
      },
      "outputs": [
        {
          "output_type": "execute_result",
          "data": {
            "text/plain": [
              "Text(0, 0.5, '$x_2$')"
            ]
          },
          "metadata": {},
          "execution_count": 12
        },
        {
          "output_type": "display_data",
          "data": {
            "text/plain": [
              "<Figure size 504x504 with 1 Axes>"
            ],
            "image/png": "[encoded data removed]"
          },
          "metadata": {
            "needs_background": "light"
          }
        }
      ],
      "source": [
        "from sklearn.datasets import make_blobs\n",
        "np.random.seed(2)\n",
        "# Creación de un dataset sintético de 5 grupos con 600 puntos (se incluyen valores negativos)\n",
        "X,_=make_blobs(n_samples=600,centers=5, cluster_std=0.5)\n",
        "plt.figure(figsize=(7,7))\n",
        "plt.scatter(X[:,0],X[:,1],alpha=0.4)\n",
        "plt.xlabel(\"$x_1$\")\n",
        "plt.ylabel(\"$x_2$\")"
      ]
    },
    {
      "cell_type": "code",
      "execution_count": null,
      "metadata": {
        "id": "9t9x4NRx80FZ"
      },
      "outputs": [],
      "source": [
        "# Definición de una funcion del simplekmeans para ver por iteraciones\n",
        "from sklearn.metrics.pairwise import euclidean_distances\n",
        "def simple_kmeans(X,k, iter=100):\n",
        "    # Inicializacion de los primeros centroides\n",
        "    init_clus=np.random.choice(np.arange(X.shape[0]),replace=False, size=k)\n",
        "    clusters=X[init_clus]\n",
        "    preds=np.argmin(euclidean_distances(X,clusters),axis=1)\n",
        "    all_clusters=[clusters.copy()]\n",
        "    all_preds=[preds]\n",
        "    for i in range(iter):\n",
        "        for clus in range(k):\n",
        "            clusters[clus]=X[preds==clus].mean(axis=0)\n",
        "            all_clusters.append(clusters.copy())\n",
        "            preds=np.argmin(euclidean_distances(X,clusters),axis=1)\n",
        "            all_preds.append(preds.copy())\n",
        "    return all_clusters,all_preds\n",
        "\n",
        "all_clusters,all_preds=simple_kmeans(X,5)"
      ]
    },
    {
      "cell_type": "code",
      "execution_count": null,
      "metadata": {
        "colab": {
          "base_uri": "https://localhost:8080/",
          "height": 391
        },
        "id": "Er6knxTnvdGh",
        "outputId": "9fcf0856-61e8-4504-ed43-7c2f36796f7d"
      },
      "outputs": [
        {
          "output_type": "execute_result",
          "data": {
            "text/plain": [
              "<matplotlib.collections.PathCollection at 0x7fd16f92dd90>"
            ]
          },
          "metadata": {},
          "execution_count": 33
        },
        {
          "output_type": "display_data",
          "data": {
            "text/plain": [
              "<Figure size 432x432 with 1 Axes>"
            ],
            "image/png": "[encoded data removed]"
          },
          "metadata": {
            "needs_background": "light"
          }
        }
      ],
      "source": [
        "# Iteración 0. Se realiza la inicialización aleatoriamente, para el ejemplo son 5 puntos, \n",
        "# y los demas puntos se asignan al cluster más cercano.\n",
        "\n",
        "iteration=11 #@param {type:\"slider\", min:0, max:40, step:1}\n",
        "plt.figure(figsize=(6,6))\n",
        "plt.scatter(X[:,0],X[:,1],c=all_preds[iteration])\n",
        "plt.scatter(all_clusters[iteration][:,0],all_clusters[iteration][:,1],c=\"r\")\n"
      ]
    },
    {
      "cell_type": "markdown",
      "metadata": {
        "id": "-ZkdXxNaJP5m"
      },
      "source": [
        "**Ejercicio 3.**\n",
        "\n",
        "Usar el algoritmo k-means y distancia Euclidean para agrupar los siguientes puntos en 3\n",
        "\n",
        "grupos: A1=(2,10), A2=(2,5), A3=(8,4), A4=(5,8), A5=(7,5), A6=(6,4), A7=(1,2), A8=(4,9). Asumir los centroides iniciales: A1, A4 and A7.\n",
        "\n",
        "a) Correr una iteración y mostrar: <br />\n",
        "\n",
        "> 1) Los nuevos grupos <br />\n",
        "\n",
        "> 2) Los nuevos centroides <br />\n",
        "\n",
        "b) Iterar más. ¿Cuantas iteraciones se necesita para converger? <br />\n",
        "\n",
        "c) Mostrar gráficamente (los puntos y centroides) al converger: <br />\n",
        "\n",
        "> 1) grupos finales <br />\n",
        "> 2) centroides finales <br />"
      ]
    },
    {
      "cell_type": "markdown",
      "source": [
        "**Consulta**\n",
        "\n",
        "1. En que consiste la inicialización kmeans++\n",
        "2. En que consiste el  Mini Batch K-Means"
      ],
      "metadata": {
        "id": "HNjpadmp7UbX"
      }
    },
    {
      "cell_type": "markdown",
      "metadata": {
        "id": "kmFcElL-v7i9"
      },
      "source": [
        "## Determinar el número de k\n",
        "La distancia intra-cluster mide qué tan compacto es cada cluster, ecisten varias medidas intra-cluster, una de ellas se define como:\n",
        "\n",
        "\n",
        "\n",
        "$$\\sum_{i=0}^{n}\\min_{\\mu_j \\in C}(||x_i - \\mu_j||^2)$$\n",
        "\n",
        "k-means minimiza esta medida, y se utiliza para medir la calidad del cluster. El método consiste en  ejecutar varias veces el k-means con diferentes valores de k,  y graficar el valor de la inercia para cda k. La grafica resultante es una curva que desciende (a myor número de grupos menor la inercia). En esta gráfica se busca un valor de k tan pequeño como sea posible y que tenga un valor de la métrica bajo. A este tipo de gráfica se le conoce usualmente como gráfica de codo o *elbow*:"
      ]
    },
    {
      "cell_type": "code",
      "execution_count": null,
      "metadata": {
        "colab": {
          "base_uri": "https://localhost:8080/",
          "height": 283
        },
        "id": "49IgwKH2v8CY",
        "outputId": "bcc65cf6-d86e-4707-97d7-0c6dac6a261c"
      },
      "outputs": [
        {
          "output_type": "display_data",
          "data": {
            "text/plain": [
              "<Figure size 432x288 with 1 Axes>"
            ],
            "image/png": "[encoded data removed]"
          },
          "metadata": {
            "needs_background": "light"
          }
        }
      ],
      "source": [
        "# Creamos un conjunto sintetico\n",
        "# Se ejecuta Kmeans, para valores de k entre 2 y 15 y se grafica la inercia con respecto al número de clusters\n",
        "X,_ = make_blobs(600, cluster_std=1.2, centers=6, random_state=10)\n",
        "\n",
        "Sum_of_squared_distances = []\n",
        "K = range(2,15)\n",
        "for k in K:\n",
        "    km = cluster.KMeans(n_clusters=k)\n",
        "    km = km.fit(X)\n",
        "    Sum_of_squared_distances.append(km.inertia_)\n",
        "    \n",
        "plt.plot(K, Sum_of_squared_distances, 'bx-')\n",
        "plt.xlabel('k')\n",
        "plt.ylabel('SSE')\n",
        "plt.show()\n"
      ]
    },
    {
      "cell_type": "code",
      "execution_count": null,
      "metadata": {
        "id": "z36kg1tQxUas"
      },
      "outputs": [],
      "source": [
        "# Graficamos los clusters, para visualizar los centroides y comparar con la gráfica del codo\n",
        "#experiment_number_of_clusters(X, KMeans(), show_metric=True)"
      ]
    },
    {
      "cell_type": "markdown",
      "metadata": {
        "id": "4vfO3d-12iFi"
      },
      "source": [
        "\n",
        "**Ejercicios:**\n",
        "\n",
        "**4.**  Calcular la gráfica del codo para el ejemplo 1 (calificaciones de películas)\n",
        "\n",
        "**5.** Entrenar un modelo K-means con un conjunto de datos en dos dimensiones, realice una exploración del parámetro $K$. Seleccione un valor apropiado (utilizando el método del codo y argumente su decisión.\n",
        "\n",
        "**6.** Aplicar el algoritmo k-means al conjunto de datos Iris (sin la clase), para k=2,3,4,5,6,7,8. Dibujar la gáfica de Elbow(codo) basada en el SSE. Explique los resultados.\n"
      ]
    },
    {
      "cell_type": "markdown",
      "metadata": {
        "id": "IEMqCEeOI5iA"
      },
      "source": [
        "## Hierarchical Clustering\n",
        "\n"
      ]
    },
    {
      "cell_type": "markdown",
      "metadata": {
        "id": "8A-KvPVfopfE"
      },
      "source": [
        "###Ejemplo1\n",
        "Usaremos un dataset de vertebrados (ejemplo de TAN) usado para clasificación. Se ejecutaran los tres algoritmos clásicos de agrupacion jerarquica aglomerativa: **single link (MIN), complete link (MAX), y  group average**, usando scipy library de python.\n",
        "\n"
      ]
    },
    {
      "cell_type": "code",
      "execution_count": null,
      "metadata": {
        "id": "vaolZ5bipKTi"
      },
      "outputs": [],
      "source": [
        "import pandas as pd\n",
        "data = pd.read_csv('vertebrate.csv',header='infer')\n",
        "data"
      ]
    },
    {
      "cell_type": "code",
      "source": [
        "# importamos las librerías\n",
        "from scipy.cluster import hierarchy\n",
        "import matplotlib.pyplot as plt\n",
        "%matplotlib inline\n",
        "\n",
        "names = data['Name']\n",
        "Y = data['Class']\n",
        "# Se eliminan la columna de nombre y la clase\n",
        "X = data.drop(['Name','Class'],axis=1)"
      ],
      "metadata": {
        "id": "38lmouiia5I_"
      },
      "execution_count": null,
      "outputs": []
    },
    {
      "cell_type": "markdown",
      "metadata": {
        "id": "fsfUIMM93AF9"
      },
      "source": [
        "###Single Link (MIN)"
      ]
    },
    {
      "cell_type": "code",
      "execution_count": null,
      "metadata": {
        "colab": {
          "base_uri": "https://localhost:8080/",
          "height": 265
        },
        "id": "X4Oy7veCrin8",
        "outputId": "6bcd9717-5bfd-4ad3-b506-fed055a0ba9b"
      },
      "outputs": [
        {
          "data": {
            "image/png": "[encoded data removed]",
            "text/plain": [
              "<Figure size 432x288 with 1 Axes>"
            ]
          },
          "metadata": {
            "needs_background": "light"
          },
          "output_type": "display_data"
        }
      ],
      "source": [
        "Z = hierarchy.single(X)\n",
        "dn = hierarchy.dendrogram(Z,labels=names.tolist(),orientation='right')"
      ]
    },
    {
      "cell_type": "markdown",
      "metadata": {
        "id": "JP9Fgg_DrwY9"
      },
      "source": [
        "###Complete Link (MAX)"
      ]
    },
    {
      "cell_type": "code",
      "execution_count": null,
      "metadata": {
        "colab": {
          "base_uri": "https://localhost:8080/",
          "height": 265
        },
        "id": "ZSmT0vdKqYnj",
        "outputId": "25914ee0-ea91-4871-e74a-b98c1b6dcb6c"
      },
      "outputs": [
        {
          "data": {
            "image/png": "[encoded data removed]",
            "text/plain": [
              "<Figure size 432x288 with 1 Axes>"
            ]
          },
          "metadata": {
            "needs_background": "light"
          },
          "output_type": "display_data"
        }
      ],
      "source": [
        "Z = hierarchy.complete(X)\n",
        "dn = hierarchy.dendrogram(Z,labels=names.tolist(),orientation='right')"
      ]
    },
    {
      "cell_type": "markdown",
      "source": [
        "###Average - Promedio"
      ],
      "metadata": {
        "id": "s6KSbSPDcENp"
      }
    },
    {
      "cell_type": "code",
      "execution_count": null,
      "metadata": {
        "colab": {
          "base_uri": "https://localhost:8080/",
          "height": 265
        },
        "id": "uy5q4_LZp6r1",
        "outputId": "18176a0c-34f5-4178-d710-8cf4df0d1fbd"
      },
      "outputs": [
        {
          "data": {
            "image/png": "[encoded data removed]",
            "text/plain": [
              "<Figure size 432x288 with 1 Axes>"
            ]
          },
          "metadata": {
            "needs_background": "light"
          },
          "output_type": "display_data"
        }
      ],
      "source": [
        "Z = hierarchy.average(X)\n",
        "dn = hierarchy.dendrogram(Z,labels=names.tolist(),orientation='right')"
      ]
    },
    {
      "cell_type": "markdown",
      "metadata": {
        "id": "PzKDnLmAbwM4"
      },
      "source": [
        "###Ward"
      ]
    },
    {
      "cell_type": "code",
      "execution_count": null,
      "metadata": {
        "colab": {
          "base_uri": "https://localhost:8080/",
          "height": 265
        },
        "id": "c1GYP3QXsUL_",
        "outputId": "effef9f0-9437-47c7-d155-f55fb4097e67"
      },
      "outputs": [
        {
          "data": {
            "image/png": "[encoded data removed]",
            "text/plain": [
              "<Figure size 432x288 with 1 Axes>"
            ]
          },
          "metadata": {
            "needs_background": "light"
          },
          "output_type": "display_data"
        }
      ],
      "source": [
        "Z = hierarchy.ward(X)\n",
        "dn = hierarchy.dendrogram(Z,labels=names.tolist(),orientation='right')"
      ]
    },
    {
      "cell_type": "markdown",
      "metadata": {
        "id": "c8mofjuYbwNA"
      },
      "source": [
        "**Ejercicio 1**\n",
        "\n",
        "¿Qué concluye de los cuatro métodos? con respecto al conjunto de datos usado.\n",
        "\n",
        "**Ejercicio 2**\n",
        "\n",
        "Dado un conjunto de ejemplos categóricos de 5 dimensiones:\n"
      ]
    },
    {
      "cell_type": "code",
      "execution_count": null,
      "metadata": {
        "id": "i2o_HtYXK0Rs",
        "outputId": "0092d649-807b-4a86-86c9-c2e81d16afb4"
      },
      "outputs": [
        {
          "data": {
            "text/plain": [
              "array([[1, 0, 1, 1, 0],\n",
              "       [1, 1, 0, 1, 0],\n",
              "       [0, 0, 1, 1, 0],\n",
              "       [0, 1, 0, 1, 0],\n",
              "       [1, 0, 1, 1, 0],\n",
              "       [0, 1, 1, 0, 0]])"
            ]
          },
          "execution_count": 66,
          "metadata": {},
          "output_type": "execute_result"
        }
      ],
      "source": [
        "from scipy.spatial import distance\n",
        "\n",
        "X = np.array([\n",
        "              [ 1,0,1,1,0],\n",
        "              [ 1,1,0,1,0],\n",
        "              [ 0,0,1,1,0],\n",
        "              [ 0,1,0,1,0],\n",
        "              [ 1,0,1,1,0],\n",
        "              [ 0,1,1,0,0],\n",
        "             ])\n",
        "X"
      ]
    },
    {
      "cell_type": "markdown",
      "metadata": {
        "id": "iviV83cgK1r3"
      },
      "source": [
        "a) Aplique agrupamiento jerárquico aglomerativo, usando:\n",
        "\n",
        "1) Medida intercluster enlace simple (single link o MIN) basado en el coeficiente de Rao. Diagramar el dendograma\n",
        "\n",
        "2) Medida intercluster enlace completo (complete link o MAX) basado en coeficiente de corres-pondencia simple CCS (su sigla en inglés, SMC Simple Matching Coeficient). Diagramar el dendograma\n",
        "\n",
        "b) ¿Es posible usar el método de Ward? Explique."
      ]
    },
    {
      "cell_type": "markdown",
      "metadata": {
        "id": "ZkaC9M35LBdd"
      },
      "source": [
        "**Ejercicio 3**\n",
        "\n",
        "Usar el conjunto de datos [“Perfume Data Data Set”](https://archive.ics.uci.edu/ml/datasets/Perfume+Data#) del repositorio UCI (Machine Learning), para:\n",
        "- Aplicar los algoritmos: single link, complete link average ling y Ward. Graficar dendogramas y explicar resultados.\n",
        "- Aplicar PCA y nuevamente aplicar los algoritmos y graficar los dendogramas."
      ]
    },
    {
      "cell_type": "markdown",
      "metadata": {
        "id": "R-w6SVAeKwkD"
      },
      "source": [
        "\n",
        "**Ejercicio 4**\n",
        "\n",
        "Usar el data set creado en la sección \"Determinar el número de K\" y construya un dendograma con distancia euclidiana (from sklearn.metrics.pairwise import euclidean_distances), y otro con similitud coseno (puede utilizar la función de scikit-learn [cosine similarity](https://scikit-learn.org/stable/modules/generated/sklearn.metrics.pairwise.cosine_similarity.html)). Discuta los resultados."
      ]
    },
    {
      "cell_type": "markdown",
      "source": [
        "## K-Nearest Neighbor\n",
        "\n",
        "**Ejercicio 1**\n",
        "\n",
        "Crear un conjunto sintetico de 5 clusters:"
      ],
      "metadata": {
        "id": "C8x4PucdjYNL"
      }
    },
    {
      "cell_type": "code",
      "source": [
        "import numpy as np\n",
        "import matplotlib.pyplot as plt\n",
        "from sklearn.datasets import make_blobs\n",
        "np.random.seed(2)\n",
        "# Creación de un dataset sintético de 5 grupos con 600 puntos (se incluyen valores negativos)\n",
        "X,_=make_blobs(n_samples=600,centers=5, cluster_std=0.8)\n",
        "plt.figure(figsize=(7,7))\n",
        "plt.scatter(X[:,0],X[:,1],alpha=0.4)\n",
        "plt.xlabel(\"$x_1$\")\n",
        "plt.ylabel(\"$x_2$\")"
      ],
      "metadata": {
        "colab": {
          "base_uri": "https://localhost:8080/",
          "height": 461
        },
        "id": "5vsCv8MQjWwA",
        "outputId": "e07d7847-7cb0-4cc1-9031-f3ddbc4939ce"
      },
      "execution_count": 8,
      "outputs": [
        {
          "output_type": "execute_result",
          "data": {
            "text/plain": [
              "Text(0, 0.5, '$x_2$')"
            ]
          },
          "metadata": {},
          "execution_count": 8
        },
        {
          "output_type": "display_data",
          "data": {
            "text/plain": [
              "<Figure size 504x504 with 1 Axes>"
            ],
            "image/png": "[encoded data removed]"
          },
          "metadata": {
            "needs_background": "light"
          }
        }
      ]
    },
    {
      "cell_type": "markdown",
      "source": [
        "Usar el algoritmo de K-Nearest Neighbor y distancia Euclidean para agrupar los datos. Probar con varios valores de umbral."
      ],
      "metadata": {
        "id": "mcLEy94Cj5Fi"
      }
    },
    {
      "cell_type": "markdown",
      "metadata": {
        "id": "wPl1mzUFLRqd"
      },
      "source": [
        "**Ejercicio 2**\n",
        "\n",
        "Usar el algoritmo de agrupación K-Nearest Neighbor y distancia Euclidean para agrupar los datos del ejercicio 3. Usar un umbral de 4."
      ]
    },
    {
      "cell_type": "markdown",
      "metadata": {
        "id": "3LEgTQfoMx0t"
      },
      "source": [
        "---------\n",
        "**REFERENCIAS**\n",
        "\n",
        "[1] TAN y otros. Introduction to Data Mining  (segunda edición)"
      ]
    }
  ],
  "metadata": {
    "colab": {
      "collapsed_sections": [],
      "machine_shape": "hm",
      "provenance": [],
      "include_colab_link": true
    },
    "kernelspec": {
      "display_name": "Python 3",
      "language": "python",
      "name": "python3"
    },
    "language_info": {
      "codemirror_mode": {
        "name": "ipython",
        "version": 3
      },
      "file_extension": ".py",
      "mimetype": "text/x-python",
      "name": "python",
      "nbconvert_exporter": "python",
      "pygments_lexer": "ipython3",
      "version": "3.8.5"
    }
  },
  "nbformat": 4,
  "nbformat_minor": 0
}