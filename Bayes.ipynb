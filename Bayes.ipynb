{
  "nbformat": 4,
  "nbformat_minor": 0,
  "metadata": {
    "colab": {
      "provenance": [],
      "authorship_tag": "ABX9TyMrWg6+evQZYXWUa09KcKVc",
      "include_colab_link": true
    },
    "kernelspec": {
      "name": "python3",
      "display_name": "Python 3"
    },
    "language_info": {
      "name": "python"
    }
  },
  "cells": [
    {
      "cell_type": "markdown",
      "metadata": {
        "id": "view-in-github",
        "colab_type": "text"
      },
      "source": [
        "<a href=\"https://colab.research.google.com/github/elizleon/mineriaDatos/blob/main/Bayes.ipynb\" target=\"_parent\"><img src=\"https://colab.research.google.com/assets/colab-badge.svg\" alt=\"Open In Colab\"/></a>"
      ]
    },
    {
      "cell_type": "code",
      "execution_count": null,
      "metadata": {
        "id": "_zzULq4yRz2E"
      },
      "outputs": [],
      "source": [
        "# Import LabelEncoder\n",
        "import numpy as np\n",
        "import pandas as pd\n",
        "from sklearn import preprocessing\n",
        "from sklearn.model_selection import train_test_split\n",
        "from sklearn.naive_bayes import CategoricalNB, GaussianNB\n",
        "\n",
        "pd_weather = pd.read_csv('weather_nominal.csv')\n",
        "pd_weather"
      ]
    },
    {
      "cell_type": "code",
      "source": [
        "X = pd_weather.values\n",
        "X"
      ],
      "metadata": {
        "id": "nEICkafLc8TH"
      },
      "execution_count": null,
      "outputs": []
    },
    {
      "cell_type": "code",
      "source": [
        "Y = pd_weather['play']\n",
        "Y"
      ],
      "metadata": {
        "id": "qZ8ScTcZdDmW"
      },
      "execution_count": null,
      "outputs": []
    },
    {
      "cell_type": "code",
      "source": [
        "le = preprocessing.LabelEncoder()\n",
        "\n",
        "outlook_encoded=le.fit_transform(pd_weather['outlook'])\n",
        "temperature_encoded = le.fit_transform(pd_weather['temperature'])\n",
        "humidity_encoded = le.fit_transform(pd_weather['humidity'])\n",
        "windy_encoded = le.fit_transform(pd_weather['windy'])\n",
        "label = le.fit_transform(pd_weather['play'])\n",
        "\n",
        "# Combining all dimensions of the dataset\n",
        "features = list(zip(outlook_encoded, temperature_encoded, humidity_encoded, windy_encoded))\n",
        "print(features)\n"
      ],
      "metadata": {
        "id": "vGKwoSFuWifl"
      },
      "execution_count": null,
      "outputs": []
    },
    {
      "cell_type": "code",
      "source": [
        "X_train_weather, X_test_weather, y_train_weather, y_test_weather = train_test_split(features, label,\n",
        "                                                    test_size=.3)\n",
        "print(\"Tamaño de entrenamiento\",len(X_train_weather))\n",
        "print(\"Tamaño de prueba\" ,len(y_test_weather))"
      ],
      "metadata": {
        "colab": {
          "base_uri": "https://localhost:8080/"
        },
        "id": "3-i-EfLeWqBN",
        "outputId": "780b09fc-26af-4e79-e5ea-514607920ee5"
      },
      "execution_count": 22,
      "outputs": [
        {
          "output_type": "stream",
          "name": "stdout",
          "text": [
            "Tamaño de entrenamiento 9\n",
            "Tamaño de prueba 5\n"
          ]
        }
      ]
    },
    {
      "cell_type": "code",
      "source": [
        "X_train_weather"
      ],
      "metadata": {
        "id": "WrGYb60IWvrg"
      },
      "execution_count": null,
      "outputs": []
    },
    {
      "cell_type": "code",
      "source": [
        "y_train_weather"
      ],
      "metadata": {
        "id": "kTfpF827WwN9"
      },
      "execution_count": null,
      "outputs": []
    },
    {
      "cell_type": "markdown",
      "source": [
        "Se utiliza la función fit para entrenar en modelo con los datos de entrenamiento"
      ],
      "metadata": {
        "id": "-lxViJSUW1ZJ"
      }
    },
    {
      "cell_type": "code",
      "source": [
        "model = CategoricalNB()\n",
        "model.fit(X_train_weather, y_train_weather)"
      ],
      "metadata": {
        "colab": {
          "base_uri": "https://localhost:8080/"
        },
        "id": "1vU2-YXfW2kk",
        "outputId": "97c6d1d0-69e5-43ff-f6a1-be15f38cd6c3"
      },
      "execution_count": 25,
      "outputs": [
        {
          "output_type": "execute_result",
          "data": {
            "text/plain": [
              "CategoricalNB()"
            ]
          },
          "metadata": {},
          "execution_count": 25
        }
      ]
    },
    {
      "cell_type": "markdown",
      "source": [
        "Por medio de la función `predict`, se predicen los labels para el conjunto de prueba. Estos resultados pueden variar debido a que, cada vez que se realiza la división de los datos entre entrenamiento y prueba, esto se hace de forma aleatoria y genera que la división entre entrenamiento y test cambie cada vez que ejecuta la función `train_test_split`. Para este caso, los labels predichos y reales se encuentran a continuación:"
      ],
      "metadata": {
        "id": "PCGavxn8W9CB"
      }
    },
    {
      "cell_type": "code",
      "source": [
        "y_pred_weather = model.predict(X_test_weather)\n",
        "print(\"Labels predichos por el modelo:\", y_pred_weather)\n",
        "print(\"Labels reales:\", y_test_weather)"
      ],
      "metadata": {
        "colab": {
          "base_uri": "https://localhost:8080/"
        },
        "id": "suBpnlpiXCPI",
        "outputId": "2f40b5df-f621-4081-cc20-32b9c9968909"
      },
      "execution_count": 26,
      "outputs": [
        {
          "output_type": "stream",
          "name": "stdout",
          "text": [
            "Labels predichos por el modelo: [0 1 1 1 1]\n",
            "Labels reales: [0 1 0 1 0]\n"
          ]
        }
      ]
    },
    {
      "cell_type": "markdown",
      "source": [
        "desempeño del modelo calculando Matriz de confusión, Exactitud (Accuracy), Error de clasificación, Precisión (Precision), Índice de Recuperación (Recall), Medida F1"
      ],
      "metadata": {
        "id": "VcSgv8iIXFzg"
      }
    },
    {
      "cell_type": "code",
      "source": [
        "from sklearn.metrics import accuracy_score, precision_score, recall_score, confusion_matrix, f1_score, classification_report, plot_roc_curve, roc_auc_score\n",
        "import matplotlib.pyplot as plt\n",
        "from sklearn.utils.multiclass import unique_labels\n",
        "\n",
        "#Se Define la función para dibujar la matriz de confusión:\n",
        "def plot_confusion_matrix(y_true, y_pred, classes,\n",
        "                          normalize=False, cmap=plt.cm.Blues):\n",
        "\n",
        "    title = 'confusion matrix'\n",
        "    cm = confusion_matrix(y_true, y_pred)\n",
        "    #classes = classes[unique_labels(y_true, y_pred)]\n",
        "    \n",
        "    #Matriz de Consufión calculada:\n",
        "    print(\"Se imprime la matriz de Confusión\")\n",
        "\n",
        "    fig, ax = plt.subplots()\n",
        "    im = ax.imshow(cm, interpolation='nearest', cmap=cmap)\n",
        "    ax.figure.colorbar(im, ax=ax)\n",
        "    ax.set(xticks=np.arange(cm.shape[1]),\n",
        "           yticks=np.arange(cm.shape[0]),\n",
        "           xticklabels=classes, yticklabels=classes,\n",
        "           title=title,\n",
        "           ylabel='Clase Verdadera',\n",
        "           xlabel='Clase Predicción')\n",
        "\n",
        "    plt.setp(ax.get_xticklabels(), rotation=45, ha=\"right\",\n",
        "             rotation_mode=\"anchor\")\n",
        "\n",
        "    fmt = '.2f' if normalize else 'd'\n",
        "    thresh = cm.max() / 2.\n",
        "    for i in range(cm.shape[0]):\n",
        "        for j in range(cm.shape[1]):\n",
        "            ax.text(j, i, format(cm[i, j], fmt),\n",
        "                    ha=\"center\", va=\"center\",\n",
        "                    color=\"red\" if cm[i, j] > thresh else \"red\")\n",
        "    fig.tight_layout()\n",
        "    return ax"
      ],
      "metadata": {
        "id": "cB5iM_KzXFPz"
      },
      "execution_count": 32,
      "outputs": []
    },
    {
      "cell_type": "code",
      "source": [
        "np.set_printoptions(precision=2)\n",
        "y_test_weather = list(map(int, y_test_weather))\n",
        "y_pred_weather = list(map(int, y_pred_weather))\n",
        "\n",
        "class_names = ['YES', 'NO']\n",
        "cm = confusion_matrix(y_test_weather, y_pred_weather)\n",
        "\n",
        "plot_confusion_matrix(y_test_weather, y_pred_weather, classes=class_names)\n",
        "plt.show()\n",
        "\n",
        "print(\"Imprimiendo el análisis de los resultados accuracy, precision, recall, f1: \")\n",
        "\n",
        "print(cm)\n",
        "# Print the precision and recall, among other metrics\n",
        "print(classification_report(y_test_weather, y_pred_weather, digits=2))"
      ],
      "metadata": {
        "colab": {
          "base_uri": "https://localhost:8080/",
          "height": 523
        },
        "id": "GsapxWx3XPYS",
        "outputId": "ed8bb40e-bb1f-4e5a-a7b6-fa158b3fa22c"
      },
      "execution_count": 33,
      "outputs": [
        {
          "output_type": "stream",
          "name": "stdout",
          "text": [
            "Se imprime la matriz de Confusión\n"
          ]
        },
        {
          "output_type": "display_data",
          "data": {
            "text/plain": [
              "<Figure size 432x288 with 2 Axes>"
            ],
            "image/png": "[encoded data removed]"
          },
          "metadata": {
            "needs_background": "light"
          }
        },
        {
          "output_type": "stream",
          "name": "stdout",
          "text": [
            "Imprimiendo el análisis de los resultados accuracy, precision, recall, f1: \n",
            "[[1 2]\n",
            " [0 2]]\n",
            "              precision    recall  f1-score   support\n",
            "\n",
            "           0       1.00      0.33      0.50         3\n",
            "           1       0.50      1.00      0.67         2\n",
            "\n",
            "    accuracy                           0.60         5\n",
            "   macro avg       0.75      0.67      0.58         5\n",
            "weighted avg       0.80      0.60      0.57         5\n",
            "\n"
          ]
        }
      ]
    },
    {
      "cell_type": "markdown",
      "source": [
        "Para este caso, donde los ejemplos de prueba son 5, el modelo se equivocó dos veces (valor superior derecho y valor inferior izquierdo de la matriz). Así mismo, acertó 3 veces. Por esto, los valores de precision, recall y f1-score son más altos para la clase 1 (NO)"
      ],
      "metadata": {
        "id": "7t7d5jqrXTP0"
      }
    }
  ]
}