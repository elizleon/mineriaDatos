{
  "nbformat": 4,
  "nbformat_minor": 0,
  "metadata": {
    "colab": {
      "provenance": [],
      "toc_visible": true,
      "include_colab_link": true
    },
    "kernelspec": {
      "name": "python3",
      "display_name": "Python 3"
    }
  },
  "cells": [
    {
      "cell_type": "markdown",
      "metadata": {
        "id": "view-in-github",
        "colab_type": "text"
      },
      "source": [
        "<a href=\"https://colab.research.google.com/github/elizleon/mineriaDatos/blob/main/Representaci%C3%B3n_texto.ipynb\" target=\"_parent\"><img src=\"https://colab.research.google.com/assets/colab-badge.svg\" alt=\"Open In Colab\"/></a>"
      ]
    },
    {
      "cell_type": "markdown",
      "source": [
        "#Universidad Nacional de Colombia\n",
        "##Minería de Datos - PLN\n",
        "\n",
        "## Prof. Elizabeth León\n",
        "## **Ejercicio Transformación de texto y extracción de características**\n",
        "\n",
        "\n",
        "---"
      ],
      "metadata": {
        "id": "KFOYNJIVGeDr"
      }
    },
    {
      "cell_type": "markdown",
      "metadata": {
        "id": "qDMDzRwvF509"
      },
      "source": [
        "# Representación de texto y extracción de características\n",
        "\n",
        "Para analizar documento textuales es necesario transformar el texto a números, ya que muchos de los algoritmos de minería de datos trabajan con representaciones numéricas. Es necesario realizar preprocesamiento al texto para eliminar ruido, ambigüedad y reducir la dimensionalidad. Se necesita aplicar el proceso de extracción de características (*feature extraction*) para representar el texto en vectores numéricos que codifican características significativas en el texto.\n",
        "\n",
        "En la presente sesión trataremos varios métodos para extracción de características desde los tradicionales basados en extracción de características manuales como Bolsa de palabras (Bag of Words - BoW) hasta aquellos basados en deep learning (Word2Vec)."
      ]
    },
    {
      "cell_type": "markdown",
      "metadata": {
        "id": "30SRDeOBTHjW"
      },
      "source": [
        "## Construyendo un text corpus\n",
        "\n",
        "Construiremos un text corpus sencillo sobre el cual demostraremos las diferentes metodologías y modelos de extracción de características."
      ]
    },
    {
      "cell_type": "code",
      "metadata": {
        "id": "QKqDXtm_YbV_"
      },
      "source": [
        "# Importamos las librerías básicas\n",
        "import numpy as np\n",
        "import pandas as pd\n",
        "import re\n",
        "import nltk\n",
        "import matplotlib.pyplot as plt\n",
        "\n",
        "pd.options.display.max_colwidth = 200\n",
        "%matplotlib inline"
      ],
      "execution_count": 1,
      "outputs": []
    },
    {
      "cell_type": "code",
      "metadata": {
        "id": "cW2fE07ecux6",
        "outputId": "3e46249e-fd66-4529-cb51-6916d677b423",
        "colab": {
          "base_uri": "https://localhost:8080/",
          "height": 891
        }
      },
      "source": [
        "# Popular corpus and classes\n",
        "nltk.download(\"popular\")"
      ],
      "execution_count": null,
      "outputs": [
        {
          "output_type": "stream",
          "text": [
            "[nltk_data] Downloading collection 'popular'\n",
            "[nltk_data]    | \n",
            "[nltk_data]    | Downloading package cmudict to /root/nltk_data...\n",
            "[nltk_data]    |   Unzipping corpora/cmudict.zip.\n",
            "[nltk_data]    | Downloading package gazetteers to /root/nltk_data...\n",
            "[nltk_data]    |   Unzipping corpora/gazetteers.zip.\n",
            "[nltk_data]    | Downloading package genesis to /root/nltk_data...\n",
            "[nltk_data]    |   Unzipping corpora/genesis.zip.\n",
            "[nltk_data]    | Downloading package gutenberg to /root/nltk_data...\n",
            "[nltk_data]    |   Unzipping corpora/gutenberg.zip.\n",
            "[nltk_data]    | Downloading package inaugural to /root/nltk_data...\n",
            "[nltk_data]    |   Unzipping corpora/inaugural.zip.\n",
            "[nltk_data]    | Downloading package movie_reviews to\n",
            "[nltk_data]    |     /root/nltk_data...\n",
            "[nltk_data]    |   Unzipping corpora/movie_reviews.zip.\n",
            "[nltk_data]    | Downloading package names to /root/nltk_data...\n",
            "[nltk_data]    |   Unzipping corpora/names.zip.\n",
            "[nltk_data]    | Downloading package shakespeare to /root/nltk_data...\n",
            "[nltk_data]    |   Unzipping corpora/shakespeare.zip.\n",
            "[nltk_data]    | Downloading package stopwords to /root/nltk_data...\n",
            "[nltk_data]    |   Unzipping corpora/stopwords.zip.\n",
            "[nltk_data]    | Downloading package treebank to /root/nltk_data...\n",
            "[nltk_data]    |   Unzipping corpora/treebank.zip.\n",
            "[nltk_data]    | Downloading package twitter_samples to\n",
            "[nltk_data]    |     /root/nltk_data...\n",
            "[nltk_data]    |   Unzipping corpora/twitter_samples.zip.\n",
            "[nltk_data]    | Downloading package omw to /root/nltk_data...\n",
            "[nltk_data]    |   Unzipping corpora/omw.zip.\n",
            "[nltk_data]    | Downloading package wordnet to /root/nltk_data...\n",
            "[nltk_data]    |   Unzipping corpora/wordnet.zip.\n",
            "[nltk_data]    | Downloading package wordnet_ic to /root/nltk_data...\n",
            "[nltk_data]    |   Unzipping corpora/wordnet_ic.zip.\n",
            "[nltk_data]    | Downloading package words to /root/nltk_data...\n",
            "[nltk_data]    |   Unzipping corpora/words.zip.\n",
            "[nltk_data]    | Downloading package maxent_ne_chunker to\n",
            "[nltk_data]    |     /root/nltk_data...\n",
            "[nltk_data]    |   Unzipping chunkers/maxent_ne_chunker.zip.\n",
            "[nltk_data]    | Downloading package punkt to /root/nltk_data...\n",
            "[nltk_data]    |   Unzipping tokenizers/punkt.zip.\n",
            "[nltk_data]    | Downloading package snowball_data to\n",
            "[nltk_data]    |     /root/nltk_data...\n",
            "[nltk_data]    | Downloading package averaged_perceptron_tagger to\n",
            "[nltk_data]    |     /root/nltk_data...\n",
            "[nltk_data]    |   Unzipping taggers/averaged_perceptron_tagger.zip.\n",
            "[nltk_data]    | \n",
            "[nltk_data]  Done downloading collection popular\n"
          ],
          "name": "stdout"
        },
        {
          "output_type": "execute_result",
          "data": {
            "text/plain": [
              "True"
            ]
          },
          "metadata": {
            "tags": []
          },
          "execution_count": 2
        }
      ]
    },
    {
      "cell_type": "code",
      "metadata": {
        "id": "Xg9BoGUsY5qC"
      },
      "source": [
        "# Definimos un corpus de prueba sencillo\n",
        "corpus = ['The sky is blue and beautiful.',\n",
        "'Love this blue and beautiful sky!',\n",
        "'The quick brown fox jumps over the lazy dog.',\n",
        "\"A king's breakfast has sausages, ham, bacon, eggs, toast and beans\",\n",
        "'I love green eggs, ham, sausages and bacon!',\n",
        "'The brown fox is quick and the blue dog is lazy!',\n",
        "'The sky is very blue and the sky is very beautiful today',\n",
        "'The dog is lazy but the brown fox is quick!'\n",
        "]"
      ],
      "execution_count": null,
      "outputs": []
    },
    {
      "cell_type": "code",
      "metadata": {
        "id": "7fs2Zpn0ZtwE"
      },
      "source": [
        "# Asignamos un label para cada oración\n",
        "labels = ['weather', 'weather', 'animals', 'food', 'food', 'animals', 'weather', 'animals']"
      ],
      "execution_count": null,
      "outputs": []
    },
    {
      "cell_type": "code",
      "metadata": {
        "id": "bD_vAEP8Z-kL",
        "outputId": "9fd121cf-b56c-4b44-8d2b-1ef006bb09f9",
        "colab": {
          "base_uri": "https://localhost:8080/",
          "height": 300
        }
      },
      "source": [
        "# Convertimos el corpus a un Pandas dataframe\n",
        "corpus = np.array(corpus)\n",
        "corpus_df = pd.DataFrame({\"Document\": corpus, \"Category\": labels})\n",
        "corpus_df"
      ],
      "execution_count": null,
      "outputs": [
        {
          "output_type": "execute_result",
          "data": {
            "text/html": [
              "<div>\n",
              "<style scoped>\n",
              "    .dataframe tbody tr th:only-of-type {\n",
              "        vertical-align: middle;\n",
              "    }\n",
              "\n",
              "    .dataframe tbody tr th {\n",
              "        vertical-align: top;\n",
              "    }\n",
              "\n",
              "    .dataframe thead th {\n",
              "        text-align: right;\n",
              "    }\n",
              "</style>\n",
              "<table border=\"1\" class=\"dataframe\">\n",
              "  <thead>\n",
              "    <tr style=\"text-align: right;\">\n",
              "      <th></th>\n",
              "      <th>Document</th>\n",
              "      <th>Category</th>\n",
              "    </tr>\n",
              "  </thead>\n",
              "  <tbody>\n",
              "    <tr>\n",
              "      <th>0</th>\n",
              "      <td>The sky is blue and beautiful.</td>\n",
              "      <td>weather</td>\n",
              "    </tr>\n",
              "    <tr>\n",
              "      <th>1</th>\n",
              "      <td>Love this blue and beautiful sky!</td>\n",
              "      <td>weather</td>\n",
              "    </tr>\n",
              "    <tr>\n",
              "      <th>2</th>\n",
              "      <td>The quick brown fox jumps over the lazy dog.</td>\n",
              "      <td>animals</td>\n",
              "    </tr>\n",
              "    <tr>\n",
              "      <th>3</th>\n",
              "      <td>A king's breakfast has sausages, ham, bacon, eggs, toast and beans</td>\n",
              "      <td>food</td>\n",
              "    </tr>\n",
              "    <tr>\n",
              "      <th>4</th>\n",
              "      <td>I love green eggs, ham, sausages and bacon!</td>\n",
              "      <td>food</td>\n",
              "    </tr>\n",
              "    <tr>\n",
              "      <th>5</th>\n",
              "      <td>The brown fox is quick and the blue dog is lazy!</td>\n",
              "      <td>animals</td>\n",
              "    </tr>\n",
              "    <tr>\n",
              "      <th>6</th>\n",
              "      <td>The sky is very blue and the sky is very beautiful today</td>\n",
              "      <td>weather</td>\n",
              "    </tr>\n",
              "    <tr>\n",
              "      <th>7</th>\n",
              "      <td>The dog is lazy but the brown fox is quick!</td>\n",
              "      <td>animals</td>\n",
              "    </tr>\n",
              "  </tbody>\n",
              "</table>\n",
              "</div>"
            ],
            "text/plain": [
              "                                                             Document Category\n",
              "0                                      The sky is blue and beautiful.  weather\n",
              "1                                   Love this blue and beautiful sky!  weather\n",
              "2                        The quick brown fox jumps over the lazy dog.  animals\n",
              "3  A king's breakfast has sausages, ham, bacon, eggs, toast and beans     food\n",
              "4                         I love green eggs, ham, sausages and bacon!     food\n",
              "5                    The brown fox is quick and the blue dog is lazy!  animals\n",
              "6            The sky is very blue and the sky is very beautiful today  weather\n",
              "7                         The dog is lazy but the brown fox is quick!  animals"
            ]
          },
          "metadata": {
            "tags": []
          },
          "execution_count": 5
        }
      ]
    },
    {
      "cell_type": "markdown",
      "metadata": {
        "id": "1kJoaiwZaiKp"
      },
      "source": [
        "#### Preprocesamiento\n",
        "\n",
        "Antes de extraer características debemos preprocesar el texto, eliminado los caracteres innecesarios, los signos de puntuación, los stop words, tokenizar, etc.  "
      ]
    },
    {
      "cell_type": "code",
      "metadata": {
        "id": "DdT0Iz0bcUN3"
      },
      "source": [
        "wpt = nltk.WordPunctTokenizer()\n",
        "stop_words = nltk.corpus.stopwords.words('english')\n",
        "def normalize_document(doc):\n",
        "  # lowercase and remove special characters\\whitespace\n",
        "  doc = re.sub(r'[^a-zA-Z\\s]', '', doc, re.I|re.A)\n",
        "  doc = doc.lower()\n",
        "  doc = doc.strip()\n",
        "  # tokenize document\n",
        "  tokens = wpt.tokenize(doc)\n",
        "  # filter stopwords out of document\n",
        "  filtered_tokens = [token for token in tokens if token not in stop_words]\n",
        "  # re-create document from filtered tokens\n",
        "  doc = ' '.join(filtered_tokens)\n",
        "  return doc"
      ],
      "execution_count": null,
      "outputs": []
    },
    {
      "cell_type": "code",
      "metadata": {
        "id": "shIAcLNgd5HR"
      },
      "source": [
        "# Vectorizamos la función de extracción de características\n",
        "normalize_corpus = np.vectorize(normalize_document)"
      ],
      "execution_count": null,
      "outputs": []
    },
    {
      "cell_type": "code",
      "metadata": {
        "id": "EyxxJnK7ethV",
        "outputId": "89b761eb-2343-4c54-ce22-868c60aa4279",
        "colab": {
          "base_uri": "https://localhost:8080/",
          "height": 129
        }
      },
      "source": [
        "# Normalizamos el corpus\n",
        "norm_corpus = normalize_corpus(corpus)\n",
        "norm_corpus"
      ],
      "execution_count": null,
      "outputs": [
        {
          "output_type": "execute_result",
          "data": {
            "text/plain": [
              "array(['sky blue beautiful', 'love blue beautiful sky',\n",
              "       'quick brown fox jumps lazy dog',\n",
              "       'kings breakfast sausages ham bacon eggs toast beans',\n",
              "       'love green eggs ham sausages bacon',\n",
              "       'brown fox quick blue dog lazy', 'sky blue sky beautiful today',\n",
              "       'dog lazy brown fox quick'], dtype='<U51')"
            ]
          },
          "metadata": {
            "tags": []
          },
          "execution_count": 8
        }
      ]
    },
    {
      "cell_type": "markdown",
      "metadata": {
        "id": "P0e0l2vGfCYC"
      },
      "source": [
        "Con el corpus preprocesado procedemos a aplicar los diferentes extractores de características."
      ]
    },
    {
      "cell_type": "markdown",
      "metadata": {
        "id": "-fF-0xtjRDwa"
      },
      "source": [
        "## Bolsa de Palabras - Bag of Words (Bow)\n",
        "\n",
        "Es el modelo de representación vectorial más simple, representa cada documentos en el corpus como un vector numérico donde cada dimensión es una palabra especifica en el corpus y el valor puede ser un conteo de frecuencia de la palabra en el documento, la ocurrencia o no de la palabra en el documento (0 si la palabra no se encuentra en el documento; 1 en otro caso), incluso pueden ser valores de pesados.\n",
        "\n",
        "Este modelo no toma en cuenta la secuencia de palabras, gramática o semántica.  "
      ]
    },
    {
      "cell_type": "code",
      "metadata": {
        "id": "tltpQ3ZnfPN9"
      },
      "source": [
        "# Importamos el extractor de características BoW de Scikit-learn\n",
        "from sklearn.feature_extraction.text import CountVectorizer"
      ],
      "execution_count": null,
      "outputs": []
    },
    {
      "cell_type": "code",
      "metadata": {
        "id": "Chz7YaVZFp7A",
        "outputId": "05c92bdc-0152-41bd-d24f-51432313c00e",
        "colab": {
          "base_uri": "https://localhost:8080/",
          "height": 54
        }
      },
      "source": [
        "# Instanciamos el extractor de características para la ocurrencia de palabras\n",
        "cv = CountVectorizer(min_df=0., max_df=1.)\n",
        "# Extraemos las características del corpus\n",
        "cv_matrix = cv.fit_transform(norm_corpus)\n",
        "# El resultado es una matriz sparse\n",
        "cv_matrix"
      ],
      "execution_count": null,
      "outputs": [
        {
          "output_type": "execute_result",
          "data": {
            "text/plain": [
              "<8x20 sparse matrix of type '<class 'numpy.int64'>'\n",
              "\twith 42 stored elements in Compressed Sparse Row format>"
            ]
          },
          "metadata": {
            "tags": []
          },
          "execution_count": 10
        }
      ]
    },
    {
      "cell_type": "code",
      "metadata": {
        "id": "KhSEXDLGkl-1",
        "outputId": "aa5db0fc-23d1-4f2c-b751-f540c5866b94",
        "colab": {
          "base_uri": "https://localhost:8080/",
          "height": 798
        }
      },
      "source": [
        "# Visualizamos las carcterísticas distintas de zero\n",
        "print(cv_matrix)"
      ],
      "execution_count": null,
      "outputs": [
        {
          "output_type": "stream",
          "text": [
            "  (0, 17)\t1\n",
            "  (0, 3)\t1\n",
            "  (0, 2)\t1\n",
            "  (1, 17)\t1\n",
            "  (1, 3)\t1\n",
            "  (1, 2)\t1\n",
            "  (1, 14)\t1\n",
            "  (2, 15)\t1\n",
            "  (2, 5)\t1\n",
            "  (2, 8)\t1\n",
            "  (2, 11)\t1\n",
            "  (2, 13)\t1\n",
            "  (2, 6)\t1\n",
            "  (3, 12)\t1\n",
            "  (3, 4)\t1\n",
            "  (3, 16)\t1\n",
            "  (3, 10)\t1\n",
            "  (3, 0)\t1\n",
            "  (3, 7)\t1\n",
            "  (3, 18)\t1\n",
            "  (3, 1)\t1\n",
            "  (4, 14)\t1\n",
            "  (4, 16)\t1\n",
            "  (4, 10)\t1\n",
            "  (4, 0)\t1\n",
            "  (4, 7)\t1\n",
            "  (4, 9)\t1\n",
            "  (5, 3)\t1\n",
            "  (5, 15)\t1\n",
            "  (5, 5)\t1\n",
            "  (5, 8)\t1\n",
            "  (5, 13)\t1\n",
            "  (5, 6)\t1\n",
            "  (6, 17)\t2\n",
            "  (6, 3)\t1\n",
            "  (6, 2)\t1\n",
            "  (6, 19)\t1\n",
            "  (7, 15)\t1\n",
            "  (7, 5)\t1\n",
            "  (7, 8)\t1\n",
            "  (7, 13)\t1\n",
            "  (7, 6)\t1\n"
          ],
          "name": "stdout"
        }
      ]
    },
    {
      "cell_type": "markdown",
      "metadata": {
        "id": "dcD1YhLIlCU5"
      },
      "source": [
        "El resultado es una matriz sparse porque el número de palabras puede incrementarse de manera exponencial con cada nuevo documento, pues cada palabra distinta se convierte en una nueva característica. El resultado previo muestra los pares (**x**,**y**) de la matriz de características que son distintos de cero, donde **x** representa a un documento y **y** representa un termino en el corpus."
      ]
    },
    {
      "cell_type": "code",
      "metadata": {
        "id": "XwwF1f6nk0X4",
        "outputId": "aae16c2a-5c6f-4930-b8a4-2081220fbfa1",
        "colab": {
          "base_uri": "https://localhost:8080/",
          "height": 166
        }
      },
      "source": [
        "# Convertimos de la representación sparse a la densa para visualizarla como numpy array\n",
        "cv_matrix = cv_matrix.toarray()\n",
        "cv_matrix"
      ],
      "execution_count": null,
      "outputs": [
        {
          "output_type": "execute_result",
          "data": {
            "text/plain": [
              "array([[0, 0, 1, 1, 0, 0, 0, 0, 0, 0, 0, 0, 0, 0, 0, 0, 0, 1, 0, 0],\n",
              "       [0, 0, 1, 1, 0, 0, 0, 0, 0, 0, 0, 0, 0, 0, 1, 0, 0, 1, 0, 0],\n",
              "       [0, 0, 0, 0, 0, 1, 1, 0, 1, 0, 0, 1, 0, 1, 0, 1, 0, 0, 0, 0],\n",
              "       [1, 1, 0, 0, 1, 0, 0, 1, 0, 0, 1, 0, 1, 0, 0, 0, 1, 0, 1, 0],\n",
              "       [1, 0, 0, 0, 0, 0, 0, 1, 0, 1, 1, 0, 0, 0, 1, 0, 1, 0, 0, 0],\n",
              "       [0, 0, 0, 1, 0, 1, 1, 0, 1, 0, 0, 0, 0, 1, 0, 1, 0, 0, 0, 0],\n",
              "       [0, 0, 1, 1, 0, 0, 0, 0, 0, 0, 0, 0, 0, 0, 0, 0, 0, 2, 0, 1],\n",
              "       [0, 0, 0, 0, 0, 1, 1, 0, 1, 0, 0, 0, 0, 1, 0, 1, 0, 0, 0, 0]])"
            ]
          },
          "metadata": {
            "tags": []
          },
          "execution_count": 12
        }
      ]
    },
    {
      "cell_type": "markdown",
      "metadata": {
        "id": "1wVcSqyinM0S"
      },
      "source": [
        "Como podemos observar cada documento es representado como una fila y cada columna representa una palabra en el corpus. Podemos visualizarlo mejor usando un pandas dataframe."
      ]
    },
    {
      "cell_type": "code",
      "metadata": {
        "id": "SNDRhqOsji5i",
        "outputId": "3b1cb1d0-21d1-4078-e672-ed40b16c0a31",
        "colab": {
          "base_uri": "https://localhost:8080/",
          "height": 320
        }
      },
      "source": [
        "# Obtenemos todas las palabras diferentes en el corpus\n",
        "vocab = cv.get_feature_names()\n",
        "# Mostramos el documento y las features\n",
        "pd.DataFrame(cv_matrix, columns=vocab)"
      ],
      "execution_count": null,
      "outputs": [
        {
          "output_type": "execute_result",
          "data": {
            "text/html": [
              "<div>\n",
              "<style scoped>\n",
              "    .dataframe tbody tr th:only-of-type {\n",
              "        vertical-align: middle;\n",
              "    }\n",
              "\n",
              "    .dataframe tbody tr th {\n",
              "        vertical-align: top;\n",
              "    }\n",
              "\n",
              "    .dataframe thead th {\n",
              "        text-align: right;\n",
              "    }\n",
              "</style>\n",
              "<table border=\"1\" class=\"dataframe\">\n",
              "  <thead>\n",
              "    <tr style=\"text-align: right;\">\n",
              "      <th></th>\n",
              "      <th>bacon</th>\n",
              "      <th>beans</th>\n",
              "      <th>beautiful</th>\n",
              "      <th>blue</th>\n",
              "      <th>breakfast</th>\n",
              "      <th>brown</th>\n",
              "      <th>dog</th>\n",
              "      <th>eggs</th>\n",
              "      <th>fox</th>\n",
              "      <th>green</th>\n",
              "      <th>ham</th>\n",
              "      <th>jumps</th>\n",
              "      <th>kings</th>\n",
              "      <th>lazy</th>\n",
              "      <th>love</th>\n",
              "      <th>quick</th>\n",
              "      <th>sausages</th>\n",
              "      <th>sky</th>\n",
              "      <th>toast</th>\n",
              "      <th>today</th>\n",
              "    </tr>\n",
              "  </thead>\n",
              "  <tbody>\n",
              "    <tr>\n",
              "      <th>0</th>\n",
              "      <td>0</td>\n",
              "      <td>0</td>\n",
              "      <td>1</td>\n",
              "      <td>1</td>\n",
              "      <td>0</td>\n",
              "      <td>0</td>\n",
              "      <td>0</td>\n",
              "      <td>0</td>\n",
              "      <td>0</td>\n",
              "      <td>0</td>\n",
              "      <td>0</td>\n",
              "      <td>0</td>\n",
              "      <td>0</td>\n",
              "      <td>0</td>\n",
              "      <td>0</td>\n",
              "      <td>0</td>\n",
              "      <td>0</td>\n",
              "      <td>1</td>\n",
              "      <td>0</td>\n",
              "      <td>0</td>\n",
              "    </tr>\n",
              "    <tr>\n",
              "      <th>1</th>\n",
              "      <td>0</td>\n",
              "      <td>0</td>\n",
              "      <td>1</td>\n",
              "      <td>1</td>\n",
              "      <td>0</td>\n",
              "      <td>0</td>\n",
              "      <td>0</td>\n",
              "      <td>0</td>\n",
              "      <td>0</td>\n",
              "      <td>0</td>\n",
              "      <td>0</td>\n",
              "      <td>0</td>\n",
              "      <td>0</td>\n",
              "      <td>0</td>\n",
              "      <td>1</td>\n",
              "      <td>0</td>\n",
              "      <td>0</td>\n",
              "      <td>1</td>\n",
              "      <td>0</td>\n",
              "      <td>0</td>\n",
              "    </tr>\n",
              "    <tr>\n",
              "      <th>2</th>\n",
              "      <td>0</td>\n",
              "      <td>0</td>\n",
              "      <td>0</td>\n",
              "      <td>0</td>\n",
              "      <td>0</td>\n",
              "      <td>1</td>\n",
              "      <td>1</td>\n",
              "      <td>0</td>\n",
              "      <td>1</td>\n",
              "      <td>0</td>\n",
              "      <td>0</td>\n",
              "      <td>1</td>\n",
              "      <td>0</td>\n",
              "      <td>1</td>\n",
              "      <td>0</td>\n",
              "      <td>1</td>\n",
              "      <td>0</td>\n",
              "      <td>0</td>\n",
              "      <td>0</td>\n",
              "      <td>0</td>\n",
              "    </tr>\n",
              "    <tr>\n",
              "      <th>3</th>\n",
              "      <td>1</td>\n",
              "      <td>1</td>\n",
              "      <td>0</td>\n",
              "      <td>0</td>\n",
              "      <td>1</td>\n",
              "      <td>0</td>\n",
              "      <td>0</td>\n",
              "      <td>1</td>\n",
              "      <td>0</td>\n",
              "      <td>0</td>\n",
              "      <td>1</td>\n",
              "      <td>0</td>\n",
              "      <td>1</td>\n",
              "      <td>0</td>\n",
              "      <td>0</td>\n",
              "      <td>0</td>\n",
              "      <td>1</td>\n",
              "      <td>0</td>\n",
              "      <td>1</td>\n",
              "      <td>0</td>\n",
              "    </tr>\n",
              "    <tr>\n",
              "      <th>4</th>\n",
              "      <td>1</td>\n",
              "      <td>0</td>\n",
              "      <td>0</td>\n",
              "      <td>0</td>\n",
              "      <td>0</td>\n",
              "      <td>0</td>\n",
              "      <td>0</td>\n",
              "      <td>1</td>\n",
              "      <td>0</td>\n",
              "      <td>1</td>\n",
              "      <td>1</td>\n",
              "      <td>0</td>\n",
              "      <td>0</td>\n",
              "      <td>0</td>\n",
              "      <td>1</td>\n",
              "      <td>0</td>\n",
              "      <td>1</td>\n",
              "      <td>0</td>\n",
              "      <td>0</td>\n",
              "      <td>0</td>\n",
              "    </tr>\n",
              "    <tr>\n",
              "      <th>5</th>\n",
              "      <td>0</td>\n",
              "      <td>0</td>\n",
              "      <td>0</td>\n",
              "      <td>1</td>\n",
              "      <td>0</td>\n",
              "      <td>1</td>\n",
              "      <td>1</td>\n",
              "      <td>0</td>\n",
              "      <td>1</td>\n",
              "      <td>0</td>\n",
              "      <td>0</td>\n",
              "      <td>0</td>\n",
              "      <td>0</td>\n",
              "      <td>1</td>\n",
              "      <td>0</td>\n",
              "      <td>1</td>\n",
              "      <td>0</td>\n",
              "      <td>0</td>\n",
              "      <td>0</td>\n",
              "      <td>0</td>\n",
              "    </tr>\n",
              "    <tr>\n",
              "      <th>6</th>\n",
              "      <td>0</td>\n",
              "      <td>0</td>\n",
              "      <td>1</td>\n",
              "      <td>1</td>\n",
              "      <td>0</td>\n",
              "      <td>0</td>\n",
              "      <td>0</td>\n",
              "      <td>0</td>\n",
              "      <td>0</td>\n",
              "      <td>0</td>\n",
              "      <td>0</td>\n",
              "      <td>0</td>\n",
              "      <td>0</td>\n",
              "      <td>0</td>\n",
              "      <td>0</td>\n",
              "      <td>0</td>\n",
              "      <td>0</td>\n",
              "      <td>2</td>\n",
              "      <td>0</td>\n",
              "      <td>1</td>\n",
              "    </tr>\n",
              "    <tr>\n",
              "      <th>7</th>\n",
              "      <td>0</td>\n",
              "      <td>0</td>\n",
              "      <td>0</td>\n",
              "      <td>0</td>\n",
              "      <td>0</td>\n",
              "      <td>1</td>\n",
              "      <td>1</td>\n",
              "      <td>0</td>\n",
              "      <td>1</td>\n",
              "      <td>0</td>\n",
              "      <td>0</td>\n",
              "      <td>0</td>\n",
              "      <td>0</td>\n",
              "      <td>1</td>\n",
              "      <td>0</td>\n",
              "      <td>1</td>\n",
              "      <td>0</td>\n",
              "      <td>0</td>\n",
              "      <td>0</td>\n",
              "      <td>0</td>\n",
              "    </tr>\n",
              "  </tbody>\n",
              "</table>\n",
              "</div>"
            ],
            "text/plain": [
              "   bacon  beans  beautiful  blue  breakfast  ...  quick  sausages  sky  toast  today\n",
              "0      0      0          1     1          0  ...      0         0    1      0      0\n",
              "1      0      0          1     1          0  ...      0         0    1      0      0\n",
              "2      0      0          0     0          0  ...      1         0    0      0      0\n",
              "3      1      1          0     0          1  ...      0         1    0      1      0\n",
              "4      1      0          0     0          0  ...      0         1    0      0      0\n",
              "5      0      0          0     1          0  ...      1         0    0      0      0\n",
              "6      0      0          1     1          0  ...      0         0    2      0      1\n",
              "7      0      0          0     0          0  ...      1         0    0      0      0\n",
              "\n",
              "[8 rows x 20 columns]"
            ]
          },
          "metadata": {
            "tags": []
          },
          "execution_count": 13
        }
      ]
    },
    {
      "cell_type": "markdown",
      "metadata": {
        "id": "FdLpMNUcj-pU"
      },
      "source": [
        "Se puede ver claramente que cada columna o dimensión representa una palabra en el corpus y cada fila representa un documento. Cada celda representa el número de veces que una palabra (columna) aparece en un documento (fila)."
      ]
    },
    {
      "cell_type": "markdown",
      "metadata": {
        "id": "BMD7Fmq4ksSW"
      },
      "source": [
        "## TF-IDF\n",
        "\n",
        "El modelo BoW tiene algunos limitantes cuando se aplica a grandes corpus de documentos. Por ejemplo puede darse el caso que un término se repita de manera común en muchos de los documentos del corpus, estos términos comunes tienden a opacar términos que son más representativos de una clase o documento. Para solventar esta limitación surge TF-IDF que significa **term frequency-inverse document frequency**, esto es la combinación de dos medidas, la frecuencia del término (tf) y la inversa de la frecuencia del documento (idf). Este modelo fue originalmente propuesto como métrica para la evaluación de resultados en motores de búsqueda y se convirtió en un estándar dentro de los sistemas de extracción de características para recuperación de información.\n",
        "\n",
        "Formalmente podemos definir tf-idf como sigue:\n",
        "$$tfidf=tf \\times idf$$\n",
        "Es decir tf-idf es el producto del valor tf y el valor idf. El valor tf se puede definir como:\n",
        "$$tf(w,D) = f_{w_D}$$\n",
        "Donde $f_{w_D}$ denota la frecuencia de la palabra **w** en el documento **D**, esto es la frecuencia del término (tf). En algunas ocasiones también se puede normalizar esta frecuencia utilizando logaritmos o promedios de frecuencia, sin embargo nosotros utilizaremos la frecuencia absoluta en nuestros cálculos.\n",
        "\n",
        "*Inverse document frequency* (idf) es la inversa de la frecuencia de los documentos y la obtenemos dividiendo el número total de documentos en el corpus entre el número de documentos que contienen el término **w** (frecuencia de documento) y luego aplicamos un escalado logarítmico al resultado. Adicionalmente sumamos 1 a la frecuencia de documento para evitar errores e indeterminaciones provenientes de la división por 0. También sumamos 1 al idf para tomar en cuenta aquellos términos que podrían tener un idf de cero. Matemáticamente la implementación de idf es:\n",
        "$$idf(w,D)=1+log \\frac{N}{1+df(w)}$$\n",
        "donde $idf(w,D)$ representa la idf para el término o palabra **w** en el documento **D**, **N** representa el total de documentos en el corpus, y $df(w)$ representa el número de documentos que contienen el término **w**.\n",
        "\n",
        "Finalmente también podemos normalizar el vector tf-idf dividiéndolo por su norma euclidiana ($L_2$), podemos representar este proceso como sigue:\n",
        "$$tfidf=\\frac{tfidf}{||tfidf||}$$\n",
        "donde $||tfidf||$ representa la norma euclidiana ($L_2$) de la matriz tf-idf. Existen múltiples variantes de este modelo pero todas terminan con resultados similares. Vamos a aplicar este modelo a nuestro corpus."
      ]
    },
    {
      "cell_type": "code",
      "metadata": {
        "id": "ql5RsD-nuIws"
      },
      "source": [
        "# Importamos el extractor de características tf-idf de scikit-learn\n",
        "from sklearn.feature_extraction.text import TfidfTransformer"
      ],
      "execution_count": null,
      "outputs": []
    },
    {
      "cell_type": "code",
      "metadata": {
        "id": "QnE7widGuWqq"
      },
      "source": [
        "# Creamos el objeto tf-idf transformer y extraemos las características del corpus\n",
        "tt = TfidfTransformer(norm=\"l2\", use_idf=True)\n",
        "# Obtenemos la matrix tf-idf del modelo BoW\n",
        "tt_matrix = tt.fit_transform(cv_matrix)"
      ],
      "execution_count": null,
      "outputs": []
    },
    {
      "cell_type": "code",
      "metadata": {
        "id": "CcTo9sLvvSwR",
        "outputId": "70d4c4da-514f-47ea-95f7-9948d2285497",
        "colab": {
          "base_uri": "https://localhost:8080/",
          "height": 320
        }
      },
      "source": [
        "# Visualizamos la matrix tf-idf\n",
        "tt_matrix = tt_matrix.toarray()\n",
        "vocab = cv.get_feature_names()\n",
        "pd.DataFrame(np.round(tt_matrix, 2), columns=vocab)"
      ],
      "execution_count": null,
      "outputs": [
        {
          "output_type": "execute_result",
          "data": {
            "text/html": [
              "<div>\n",
              "<style scoped>\n",
              "    .dataframe tbody tr th:only-of-type {\n",
              "        vertical-align: middle;\n",
              "    }\n",
              "\n",
              "    .dataframe tbody tr th {\n",
              "        vertical-align: top;\n",
              "    }\n",
              "\n",
              "    .dataframe thead th {\n",
              "        text-align: right;\n",
              "    }\n",
              "</style>\n",
              "<table border=\"1\" class=\"dataframe\">\n",
              "  <thead>\n",
              "    <tr style=\"text-align: right;\">\n",
              "      <th></th>\n",
              "      <th>bacon</th>\n",
              "      <th>beans</th>\n",
              "      <th>beautiful</th>\n",
              "      <th>blue</th>\n",
              "      <th>breakfast</th>\n",
              "      <th>brown</th>\n",
              "      <th>dog</th>\n",
              "      <th>eggs</th>\n",
              "      <th>fox</th>\n",
              "      <th>green</th>\n",
              "      <th>ham</th>\n",
              "      <th>jumps</th>\n",
              "      <th>kings</th>\n",
              "      <th>lazy</th>\n",
              "      <th>love</th>\n",
              "      <th>quick</th>\n",
              "      <th>sausages</th>\n",
              "      <th>sky</th>\n",
              "      <th>toast</th>\n",
              "      <th>today</th>\n",
              "    </tr>\n",
              "  </thead>\n",
              "  <tbody>\n",
              "    <tr>\n",
              "      <th>0</th>\n",
              "      <td>0.00</td>\n",
              "      <td>0.00</td>\n",
              "      <td>0.60</td>\n",
              "      <td>0.53</td>\n",
              "      <td>0.00</td>\n",
              "      <td>0.00</td>\n",
              "      <td>0.00</td>\n",
              "      <td>0.00</td>\n",
              "      <td>0.00</td>\n",
              "      <td>0.00</td>\n",
              "      <td>0.00</td>\n",
              "      <td>0.00</td>\n",
              "      <td>0.00</td>\n",
              "      <td>0.00</td>\n",
              "      <td>0.00</td>\n",
              "      <td>0.00</td>\n",
              "      <td>0.00</td>\n",
              "      <td>0.60</td>\n",
              "      <td>0.00</td>\n",
              "      <td>0.0</td>\n",
              "    </tr>\n",
              "    <tr>\n",
              "      <th>1</th>\n",
              "      <td>0.00</td>\n",
              "      <td>0.00</td>\n",
              "      <td>0.49</td>\n",
              "      <td>0.43</td>\n",
              "      <td>0.00</td>\n",
              "      <td>0.00</td>\n",
              "      <td>0.00</td>\n",
              "      <td>0.00</td>\n",
              "      <td>0.00</td>\n",
              "      <td>0.00</td>\n",
              "      <td>0.00</td>\n",
              "      <td>0.00</td>\n",
              "      <td>0.00</td>\n",
              "      <td>0.00</td>\n",
              "      <td>0.57</td>\n",
              "      <td>0.00</td>\n",
              "      <td>0.00</td>\n",
              "      <td>0.49</td>\n",
              "      <td>0.00</td>\n",
              "      <td>0.0</td>\n",
              "    </tr>\n",
              "    <tr>\n",
              "      <th>2</th>\n",
              "      <td>0.00</td>\n",
              "      <td>0.00</td>\n",
              "      <td>0.00</td>\n",
              "      <td>0.00</td>\n",
              "      <td>0.00</td>\n",
              "      <td>0.38</td>\n",
              "      <td>0.38</td>\n",
              "      <td>0.00</td>\n",
              "      <td>0.38</td>\n",
              "      <td>0.00</td>\n",
              "      <td>0.00</td>\n",
              "      <td>0.53</td>\n",
              "      <td>0.00</td>\n",
              "      <td>0.38</td>\n",
              "      <td>0.00</td>\n",
              "      <td>0.38</td>\n",
              "      <td>0.00</td>\n",
              "      <td>0.00</td>\n",
              "      <td>0.00</td>\n",
              "      <td>0.0</td>\n",
              "    </tr>\n",
              "    <tr>\n",
              "      <th>3</th>\n",
              "      <td>0.32</td>\n",
              "      <td>0.38</td>\n",
              "      <td>0.00</td>\n",
              "      <td>0.00</td>\n",
              "      <td>0.38</td>\n",
              "      <td>0.00</td>\n",
              "      <td>0.00</td>\n",
              "      <td>0.32</td>\n",
              "      <td>0.00</td>\n",
              "      <td>0.00</td>\n",
              "      <td>0.32</td>\n",
              "      <td>0.00</td>\n",
              "      <td>0.38</td>\n",
              "      <td>0.00</td>\n",
              "      <td>0.00</td>\n",
              "      <td>0.00</td>\n",
              "      <td>0.32</td>\n",
              "      <td>0.00</td>\n",
              "      <td>0.38</td>\n",
              "      <td>0.0</td>\n",
              "    </tr>\n",
              "    <tr>\n",
              "      <th>4</th>\n",
              "      <td>0.39</td>\n",
              "      <td>0.00</td>\n",
              "      <td>0.00</td>\n",
              "      <td>0.00</td>\n",
              "      <td>0.00</td>\n",
              "      <td>0.00</td>\n",
              "      <td>0.00</td>\n",
              "      <td>0.39</td>\n",
              "      <td>0.00</td>\n",
              "      <td>0.47</td>\n",
              "      <td>0.39</td>\n",
              "      <td>0.00</td>\n",
              "      <td>0.00</td>\n",
              "      <td>0.00</td>\n",
              "      <td>0.39</td>\n",
              "      <td>0.00</td>\n",
              "      <td>0.39</td>\n",
              "      <td>0.00</td>\n",
              "      <td>0.00</td>\n",
              "      <td>0.0</td>\n",
              "    </tr>\n",
              "    <tr>\n",
              "      <th>5</th>\n",
              "      <td>0.00</td>\n",
              "      <td>0.00</td>\n",
              "      <td>0.00</td>\n",
              "      <td>0.37</td>\n",
              "      <td>0.00</td>\n",
              "      <td>0.42</td>\n",
              "      <td>0.42</td>\n",
              "      <td>0.00</td>\n",
              "      <td>0.42</td>\n",
              "      <td>0.00</td>\n",
              "      <td>0.00</td>\n",
              "      <td>0.00</td>\n",
              "      <td>0.00</td>\n",
              "      <td>0.42</td>\n",
              "      <td>0.00</td>\n",
              "      <td>0.42</td>\n",
              "      <td>0.00</td>\n",
              "      <td>0.00</td>\n",
              "      <td>0.00</td>\n",
              "      <td>0.0</td>\n",
              "    </tr>\n",
              "    <tr>\n",
              "      <th>6</th>\n",
              "      <td>0.00</td>\n",
              "      <td>0.00</td>\n",
              "      <td>0.36</td>\n",
              "      <td>0.32</td>\n",
              "      <td>0.00</td>\n",
              "      <td>0.00</td>\n",
              "      <td>0.00</td>\n",
              "      <td>0.00</td>\n",
              "      <td>0.00</td>\n",
              "      <td>0.00</td>\n",
              "      <td>0.00</td>\n",
              "      <td>0.00</td>\n",
              "      <td>0.00</td>\n",
              "      <td>0.00</td>\n",
              "      <td>0.00</td>\n",
              "      <td>0.00</td>\n",
              "      <td>0.00</td>\n",
              "      <td>0.72</td>\n",
              "      <td>0.00</td>\n",
              "      <td>0.5</td>\n",
              "    </tr>\n",
              "    <tr>\n",
              "      <th>7</th>\n",
              "      <td>0.00</td>\n",
              "      <td>0.00</td>\n",
              "      <td>0.00</td>\n",
              "      <td>0.00</td>\n",
              "      <td>0.00</td>\n",
              "      <td>0.45</td>\n",
              "      <td>0.45</td>\n",
              "      <td>0.00</td>\n",
              "      <td>0.45</td>\n",
              "      <td>0.00</td>\n",
              "      <td>0.00</td>\n",
              "      <td>0.00</td>\n",
              "      <td>0.00</td>\n",
              "      <td>0.45</td>\n",
              "      <td>0.00</td>\n",
              "      <td>0.45</td>\n",
              "      <td>0.00</td>\n",
              "      <td>0.00</td>\n",
              "      <td>0.00</td>\n",
              "      <td>0.0</td>\n",
              "    </tr>\n",
              "  </tbody>\n",
              "</table>\n",
              "</div>"
            ],
            "text/plain": [
              "   bacon  beans  beautiful  blue  ...  sausages   sky  toast  today\n",
              "0   0.00   0.00       0.60  0.53  ...      0.00  0.60   0.00    0.0\n",
              "1   0.00   0.00       0.49  0.43  ...      0.00  0.49   0.00    0.0\n",
              "2   0.00   0.00       0.00  0.00  ...      0.00  0.00   0.00    0.0\n",
              "3   0.32   0.38       0.00  0.00  ...      0.32  0.00   0.38    0.0\n",
              "4   0.39   0.00       0.00  0.00  ...      0.39  0.00   0.00    0.0\n",
              "5   0.00   0.00       0.00  0.37  ...      0.00  0.00   0.00    0.0\n",
              "6   0.00   0.00       0.36  0.32  ...      0.00  0.72   0.00    0.5\n",
              "7   0.00   0.00       0.00  0.00  ...      0.00  0.00   0.00    0.0\n",
              "\n",
              "[8 rows x 20 columns]"
            ]
          },
          "metadata": {
            "tags": []
          },
          "execution_count": 16
        }
      ]
    },
    {
      "cell_type": "markdown",
      "metadata": {
        "id": "x9nWcLszvt_c"
      },
      "source": [
        "TfidfTransformer toma como entrada el vector de Bag of Words y lo transforma en su representación tf-idf. No es necesario calcular el modelo BoW antes de obtener la representación tf-idf, con la clase TfidfVectorizer podremos obtener la representación tf-idf directamente del texto como se muestra a continuación."
      ]
    },
    {
      "cell_type": "code",
      "metadata": {
        "id": "tDGpnklkxcLP"
      },
      "source": [
        "# Importamos el extractor de características de scikit-learn\n",
        "from sklearn.feature_extraction.text import TfidfVectorizer"
      ],
      "execution_count": null,
      "outputs": []
    },
    {
      "cell_type": "code",
      "metadata": {
        "id": "RA8XLTHfxo3B"
      },
      "source": [
        "# Instanciamos la clase\n",
        "tv = TfidfVectorizer(min_df=0., max_df=1., norm=\"l2\", use_idf=True, smooth_idf=True)\n",
        "# Entrenamos y extraemos características\n",
        "tv_matrix= tv.fit_transform(norm_corpus)"
      ],
      "execution_count": null,
      "outputs": []
    },
    {
      "cell_type": "code",
      "metadata": {
        "id": "HvDjmKZPyBtO",
        "outputId": "65ab36dc-ea8a-40cd-c29d-1a867e4f7557",
        "colab": {
          "base_uri": "https://localhost:8080/",
          "height": 320
        }
      },
      "source": [
        "# Visualizamos el resultado tf-idf obtenido\n",
        "tv_matrix= tv_matrix.toarray()\n",
        "vocab = tv.get_feature_names()\n",
        "pd.DataFrame(np.round(tv_matrix, 2), columns=vocab)"
      ],
      "execution_count": null,
      "outputs": [
        {
          "output_type": "execute_result",
          "data": {
            "text/html": [
              "<div>\n",
              "<style scoped>\n",
              "    .dataframe tbody tr th:only-of-type {\n",
              "        vertical-align: middle;\n",
              "    }\n",
              "\n",
              "    .dataframe tbody tr th {\n",
              "        vertical-align: top;\n",
              "    }\n",
              "\n",
              "    .dataframe thead th {\n",
              "        text-align: right;\n",
              "    }\n",
              "</style>\n",
              "<table border=\"1\" class=\"dataframe\">\n",
              "  <thead>\n",
              "    <tr style=\"text-align: right;\">\n",
              "      <th></th>\n",
              "      <th>bacon</th>\n",
              "      <th>beans</th>\n",
              "      <th>beautiful</th>\n",
              "      <th>blue</th>\n",
              "      <th>breakfast</th>\n",
              "      <th>brown</th>\n",
              "      <th>dog</th>\n",
              "      <th>eggs</th>\n",
              "      <th>fox</th>\n",
              "      <th>green</th>\n",
              "      <th>ham</th>\n",
              "      <th>jumps</th>\n",
              "      <th>kings</th>\n",
              "      <th>lazy</th>\n",
              "      <th>love</th>\n",
              "      <th>quick</th>\n",
              "      <th>sausages</th>\n",
              "      <th>sky</th>\n",
              "      <th>toast</th>\n",
              "      <th>today</th>\n",
              "    </tr>\n",
              "  </thead>\n",
              "  <tbody>\n",
              "    <tr>\n",
              "      <th>0</th>\n",
              "      <td>0.00</td>\n",
              "      <td>0.00</td>\n",
              "      <td>0.60</td>\n",
              "      <td>0.53</td>\n",
              "      <td>0.00</td>\n",
              "      <td>0.00</td>\n",
              "      <td>0.00</td>\n",
              "      <td>0.00</td>\n",
              "      <td>0.00</td>\n",
              "      <td>0.00</td>\n",
              "      <td>0.00</td>\n",
              "      <td>0.00</td>\n",
              "      <td>0.00</td>\n",
              "      <td>0.00</td>\n",
              "      <td>0.00</td>\n",
              "      <td>0.00</td>\n",
              "      <td>0.00</td>\n",
              "      <td>0.60</td>\n",
              "      <td>0.00</td>\n",
              "      <td>0.0</td>\n",
              "    </tr>\n",
              "    <tr>\n",
              "      <th>1</th>\n",
              "      <td>0.00</td>\n",
              "      <td>0.00</td>\n",
              "      <td>0.49</td>\n",
              "      <td>0.43</td>\n",
              "      <td>0.00</td>\n",
              "      <td>0.00</td>\n",
              "      <td>0.00</td>\n",
              "      <td>0.00</td>\n",
              "      <td>0.00</td>\n",
              "      <td>0.00</td>\n",
              "      <td>0.00</td>\n",
              "      <td>0.00</td>\n",
              "      <td>0.00</td>\n",
              "      <td>0.00</td>\n",
              "      <td>0.57</td>\n",
              "      <td>0.00</td>\n",
              "      <td>0.00</td>\n",
              "      <td>0.49</td>\n",
              "      <td>0.00</td>\n",
              "      <td>0.0</td>\n",
              "    </tr>\n",
              "    <tr>\n",
              "      <th>2</th>\n",
              "      <td>0.00</td>\n",
              "      <td>0.00</td>\n",
              "      <td>0.00</td>\n",
              "      <td>0.00</td>\n",
              "      <td>0.00</td>\n",
              "      <td>0.38</td>\n",
              "      <td>0.38</td>\n",
              "      <td>0.00</td>\n",
              "      <td>0.38</td>\n",
              "      <td>0.00</td>\n",
              "      <td>0.00</td>\n",
              "      <td>0.53</td>\n",
              "      <td>0.00</td>\n",
              "      <td>0.38</td>\n",
              "      <td>0.00</td>\n",
              "      <td>0.38</td>\n",
              "      <td>0.00</td>\n",
              "      <td>0.00</td>\n",
              "      <td>0.00</td>\n",
              "      <td>0.0</td>\n",
              "    </tr>\n",
              "    <tr>\n",
              "      <th>3</th>\n",
              "      <td>0.32</td>\n",
              "      <td>0.38</td>\n",
              "      <td>0.00</td>\n",
              "      <td>0.00</td>\n",
              "      <td>0.38</td>\n",
              "      <td>0.00</td>\n",
              "      <td>0.00</td>\n",
              "      <td>0.32</td>\n",
              "      <td>0.00</td>\n",
              "      <td>0.00</td>\n",
              "      <td>0.32</td>\n",
              "      <td>0.00</td>\n",
              "      <td>0.38</td>\n",
              "      <td>0.00</td>\n",
              "      <td>0.00</td>\n",
              "      <td>0.00</td>\n",
              "      <td>0.32</td>\n",
              "      <td>0.00</td>\n",
              "      <td>0.38</td>\n",
              "      <td>0.0</td>\n",
              "    </tr>\n",
              "    <tr>\n",
              "      <th>4</th>\n",
              "      <td>0.39</td>\n",
              "      <td>0.00</td>\n",
              "      <td>0.00</td>\n",
              "      <td>0.00</td>\n",
              "      <td>0.00</td>\n",
              "      <td>0.00</td>\n",
              "      <td>0.00</td>\n",
              "      <td>0.39</td>\n",
              "      <td>0.00</td>\n",
              "      <td>0.47</td>\n",
              "      <td>0.39</td>\n",
              "      <td>0.00</td>\n",
              "      <td>0.00</td>\n",
              "      <td>0.00</td>\n",
              "      <td>0.39</td>\n",
              "      <td>0.00</td>\n",
              "      <td>0.39</td>\n",
              "      <td>0.00</td>\n",
              "      <td>0.00</td>\n",
              "      <td>0.0</td>\n",
              "    </tr>\n",
              "    <tr>\n",
              "      <th>5</th>\n",
              "      <td>0.00</td>\n",
              "      <td>0.00</td>\n",
              "      <td>0.00</td>\n",
              "      <td>0.37</td>\n",
              "      <td>0.00</td>\n",
              "      <td>0.42</td>\n",
              "      <td>0.42</td>\n",
              "      <td>0.00</td>\n",
              "      <td>0.42</td>\n",
              "      <td>0.00</td>\n",
              "      <td>0.00</td>\n",
              "      <td>0.00</td>\n",
              "      <td>0.00</td>\n",
              "      <td>0.42</td>\n",
              "      <td>0.00</td>\n",
              "      <td>0.42</td>\n",
              "      <td>0.00</td>\n",
              "      <td>0.00</td>\n",
              "      <td>0.00</td>\n",
              "      <td>0.0</td>\n",
              "    </tr>\n",
              "    <tr>\n",
              "      <th>6</th>\n",
              "      <td>0.00</td>\n",
              "      <td>0.00</td>\n",
              "      <td>0.36</td>\n",
              "      <td>0.32</td>\n",
              "      <td>0.00</td>\n",
              "      <td>0.00</td>\n",
              "      <td>0.00</td>\n",
              "      <td>0.00</td>\n",
              "      <td>0.00</td>\n",
              "      <td>0.00</td>\n",
              "      <td>0.00</td>\n",
              "      <td>0.00</td>\n",
              "      <td>0.00</td>\n",
              "      <td>0.00</td>\n",
              "      <td>0.00</td>\n",
              "      <td>0.00</td>\n",
              "      <td>0.00</td>\n",
              "      <td>0.72</td>\n",
              "      <td>0.00</td>\n",
              "      <td>0.5</td>\n",
              "    </tr>\n",
              "    <tr>\n",
              "      <th>7</th>\n",
              "      <td>0.00</td>\n",
              "      <td>0.00</td>\n",
              "      <td>0.00</td>\n",
              "      <td>0.00</td>\n",
              "      <td>0.00</td>\n",
              "      <td>0.45</td>\n",
              "      <td>0.45</td>\n",
              "      <td>0.00</td>\n",
              "      <td>0.45</td>\n",
              "      <td>0.00</td>\n",
              "      <td>0.00</td>\n",
              "      <td>0.00</td>\n",
              "      <td>0.00</td>\n",
              "      <td>0.45</td>\n",
              "      <td>0.00</td>\n",
              "      <td>0.45</td>\n",
              "      <td>0.00</td>\n",
              "      <td>0.00</td>\n",
              "      <td>0.00</td>\n",
              "      <td>0.0</td>\n",
              "    </tr>\n",
              "  </tbody>\n",
              "</table>\n",
              "</div>"
            ],
            "text/plain": [
              "   bacon  beans  beautiful  blue  ...  sausages   sky  toast  today\n",
              "0   0.00   0.00       0.60  0.53  ...      0.00  0.60   0.00    0.0\n",
              "1   0.00   0.00       0.49  0.43  ...      0.00  0.49   0.00    0.0\n",
              "2   0.00   0.00       0.00  0.00  ...      0.00  0.00   0.00    0.0\n",
              "3   0.32   0.38       0.00  0.00  ...      0.32  0.00   0.38    0.0\n",
              "4   0.39   0.00       0.00  0.00  ...      0.39  0.00   0.00    0.0\n",
              "5   0.00   0.00       0.00  0.37  ...      0.00  0.00   0.00    0.0\n",
              "6   0.00   0.00       0.36  0.32  ...      0.00  0.72   0.00    0.5\n",
              "7   0.00   0.00       0.00  0.00  ...      0.00  0.00   0.00    0.0\n",
              "\n",
              "[8 rows x 20 columns]"
            ]
          },
          "metadata": {
            "tags": []
          },
          "execution_count": 19
        }
      ]
    },
    {
      "cell_type": "markdown",
      "metadata": {
        "id": "XFUdjhR4ypYh"
      },
      "source": [
        "## Extracción de características con Word2Vec\n",
        "\n",
        "Los modelos de extracción de características utilizados hasta el momento están basados en conteo y frecuencia pero no toman en cuenta importantes características del texto como son por ejemplo la secuencia, estructura, contexto y significado. Word2vec es un modelo de  *word embedding* creado por Google en 2013, está basado en deep learning y su objetivo es transformar las palabras en vectores numéricos densos dentro de un espacio vectorial continuo que captura la información contextual y semántica.\n",
        "\n",
        "Esencialmente este modelo es no supervisado tomando grandes cantidades de texto, crea un vocabulario de las posibles palabras y genera *dense word embeddings*. Usualmente es posible definir el tamaño de los vectores de *word embedding*. Esto hace que la representación de word embedding sea más compacta que aquella obtenida del modelo BoW que por naturaleza es sparse."
      ]
    },
    {
      "cell_type": "markdown",
      "metadata": {
        "id": "8gglzYoJ5Paj"
      },
      "source": [
        "Para entrenar nuestro modelo word2vec necesitamos un corpus mucho más grande por ello usaremos el corpus de la biblia, que importaremos aquí."
      ]
    },
    {
      "cell_type": "code",
      "metadata": {
        "id": "bsxk6noN2LoR"
      },
      "source": [
        "# Importamos el corpus\n",
        "from nltk.corpus import gutenberg\n",
        "# Importamos módulo para manejar la puntuación\n",
        "from string import punctuation"
      ],
      "execution_count": null,
      "outputs": []
    },
    {
      "cell_type": "code",
      "metadata": {
        "id": "ZR6V_iLv5rYv"
      },
      "source": [
        "# Cargamos el corpus\n",
        "bible = gutenberg.sents(\"bible-kjv.txt\")\n",
        "# Definimos los términos a remover\n",
        "remove_terms = punctuation + \"0123456789\""
      ],
      "execution_count": null,
      "outputs": []
    },
    {
      "cell_type": "code",
      "metadata": {
        "id": "b5PK2GFm6P_5",
        "outputId": "8a3c9914-c4e8-41f5-a286-68be51709366",
        "colab": {
          "base_uri": "https://localhost:8080/",
          "height": 130
        }
      },
      "source": [
        "# Normalizamos el texto\n",
        "norm_bible = [ [word.lower() for word in sent if word not in remove_terms] for sent in bible]\n",
        "norm_bible = [' '.join(tok_sent) for tok_sent in norm_bible]\n",
        "norm_bible = filter(None, normalize_corpus(norm_bible))\n",
        "norm_bible = [tok_sent for tok_sent in norm_bible if len(tok_sent.split()) > 2]\n",
        "# imprimimos el número total de filas, un ejemplo de linea raw y procesada\n",
        "print('Total lines:', len(bible))\n",
        "print('\\nSample line:', bible[10])\n",
        "print('\\nProcessed line:', norm_bible[10])"
      ],
      "execution_count": null,
      "outputs": [
        {
          "output_type": "stream",
          "text": [
            "Total lines: 30103\n",
            "\n",
            "Sample line: ['1', ':', '6', 'And', 'God', 'said', ',', 'Let', 'there', 'be', 'a', 'firmament', 'in', 'the', 'midst', 'of', 'the', 'waters', ',', 'and', 'let', 'it', 'divide', 'the', 'waters', 'from', 'the', 'waters', '.']\n",
            "\n",
            "Processed line: god said let firmament midst waters let divide waters waters\n"
          ],
          "name": "stdout"
        }
      ]
    },
    {
      "cell_type": "markdown",
      "metadata": {
        "id": "eXN9D7TK6wmV"
      },
      "source": [
        "Existen numerosas implementaciones del algoritmo Word2vec sin embargo las más eficientes se encuentran dentro de la librería gemsim usaremos esta implementación para entrenar un modelo de word2vec y extraer características con él."
      ]
    },
    {
      "cell_type": "code",
      "metadata": {
        "id": "E5Nr0PpM7pIi",
        "outputId": "93bea2aa-c909-4988-9f91-432f5e197a53",
        "colab": {
          "base_uri": "https://localhost:8080/",
          "height": 353
        }
      },
      "source": [
        "# Instalamos el módulo word2vec\n",
        "!pip install gensim"
      ],
      "execution_count": null,
      "outputs": [
        {
          "output_type": "stream",
          "text": [
            "Requirement already satisfied: gensim in /usr/local/lib/python3.6/dist-packages (3.6.0)\n",
            "Requirement already satisfied: smart-open>=1.2.1 in /usr/local/lib/python3.6/dist-packages (from gensim) (1.8.3)\n",
            "Requirement already satisfied: six>=1.5.0 in /usr/local/lib/python3.6/dist-packages (from gensim) (1.12.0)\n",
            "Requirement already satisfied: scipy>=0.18.1 in /usr/local/lib/python3.6/dist-packages (from gensim) (1.3.0)\n",
            "Requirement already satisfied: numpy>=1.11.3 in /usr/local/lib/python3.6/dist-packages (from gensim) (1.16.3)\n",
            "Requirement already satisfied: boto3 in /usr/local/lib/python3.6/dist-packages (from smart-open>=1.2.1->gensim) (1.9.153)\n",
            "Requirement already satisfied: requests in /usr/local/lib/python3.6/dist-packages (from smart-open>=1.2.1->gensim) (2.21.0)\n",
            "Requirement already satisfied: boto>=2.32 in /usr/local/lib/python3.6/dist-packages (from smart-open>=1.2.1->gensim) (2.49.0)\n",
            "Requirement already satisfied: jmespath<1.0.0,>=0.7.1 in /usr/local/lib/python3.6/dist-packages (from boto3->smart-open>=1.2.1->gensim) (0.9.4)\n",
            "Requirement already satisfied: s3transfer<0.3.0,>=0.2.0 in /usr/local/lib/python3.6/dist-packages (from boto3->smart-open>=1.2.1->gensim) (0.2.0)\n",
            "Requirement already satisfied: botocore<1.13.0,>=1.12.153 in /usr/local/lib/python3.6/dist-packages (from boto3->smart-open>=1.2.1->gensim) (1.12.153)\n",
            "Requirement already satisfied: idna<2.9,>=2.5 in /usr/local/lib/python3.6/dist-packages (from requests->smart-open>=1.2.1->gensim) (2.8)\n",
            "Requirement already satisfied: certifi>=2017.4.17 in /usr/local/lib/python3.6/dist-packages (from requests->smart-open>=1.2.1->gensim) (2019.3.9)\n",
            "Requirement already satisfied: urllib3<1.25,>=1.21.1 in /usr/local/lib/python3.6/dist-packages (from requests->smart-open>=1.2.1->gensim) (1.24.3)\n",
            "Requirement already satisfied: chardet<3.1.0,>=3.0.2 in /usr/local/lib/python3.6/dist-packages (from requests->smart-open>=1.2.1->gensim) (3.0.4)\n",
            "Requirement already satisfied: docutils>=0.10 in /usr/local/lib/python3.6/dist-packages (from botocore<1.13.0,>=1.12.153->boto3->smart-open>=1.2.1->gensim) (0.14)\n",
            "Requirement already satisfied: python-dateutil<3.0.0,>=2.1; python_version >= \"2.7\" in /usr/local/lib/python3.6/dist-packages (from botocore<1.13.0,>=1.12.153->boto3->smart-open>=1.2.1->gensim) (2.5.3)\n"
          ],
          "name": "stdout"
        }
      ]
    },
    {
      "cell_type": "code",
      "metadata": {
        "id": "F8KRas1t7Wv7"
      },
      "source": [
        "# Importamos word2vec from gemsim\n",
        "from gensim.models import word2vec"
      ],
      "execution_count": null,
      "outputs": []
    },
    {
      "cell_type": "code",
      "metadata": {
        "id": "BqoRPXJl7-yz"
      },
      "source": [
        "# tokenize en oraciones el corpus\n",
        "wpt = nltk.WordPunctTokenizer()\n",
        "tokenized_corpus = [wpt.tokenize(document) for document in norm_bible]"
      ],
      "execution_count": null,
      "outputs": []
    },
    {
      "cell_type": "markdown",
      "metadata": {
        "id": "C8Rs3jVA8Lgx"
      },
      "source": [
        "Los siguientes parámetros son utilizados por el modelo Word2vec para construir el modelo:\n",
        "* feature_size: Determina la dimensión de los vectores de embedding\n",
        "* window_context: Es el número de palabras que tomará en cuenta el modelo para construir el contexto\n",
        "* min_word_count: Especifica el conteo mínimo de una palabra dentro del corpus para ser tomada en cuenta dentro del vocabulario\n",
        "* sample: este parámetro es usado para el sub-muestreo dentro del algoritmo. Los valores entre 0.01 entre 0.0001 son usualmente ideales."
      ]
    },
    {
      "cell_type": "code",
      "metadata": {
        "id": "pPawqV9c8GSD"
      },
      "source": [
        "# Set values for various parameters\n",
        "feature_size = 100 # Word vector dimensionality\n",
        "window_context = 30 # Context window size\n",
        "min_word_count = 1 # Minimum word count\n",
        "sample = 1e-3 # Downsample setting for frequent words"
      ],
      "execution_count": null,
      "outputs": []
    },
    {
      "cell_type": "code",
      "metadata": {
        "id": "nWOUdjPo9fkz"
      },
      "source": [
        "# definimos el modelo y lo entrenamos\n",
        "w2v_model = word2vec.Word2Vec(tokenized_corpus, size=feature_size,\n",
        "                              window=window_context, min_count=min_word_count,\n",
        "                              sample=sample, iter=50)"
      ],
      "execution_count": null,
      "outputs": []
    },
    {
      "cell_type": "code",
      "metadata": {
        "id": "GIG8AluM9pJC",
        "outputId": "e01a9131-ccfb-4ab0-e9f2-fa8823511340",
        "colab": {
          "base_uri": "https://localhost:8080/",
          "height": 223
        }
      },
      "source": [
        "# Visualizamos las palabras que son similares de acuerdo al modelo de gensim\n",
        "similar_words = {search_term: [item[0] for item in w2v_model.wv.most_similar([search_term], topn=5)]\n",
        "                 for search_term in ['god', 'jesus', 'noah','egypt', 'john', 'gospel', 'moses','famine']}\n",
        "similar_words"
      ],
      "execution_count": null,
      "outputs": [
        {
          "output_type": "stream",
          "text": [
            "/usr/local/lib/python3.6/dist-packages/gensim/matutils.py:737: FutureWarning: Conversion of the second argument of issubdtype from `int` to `np.signedinteger` is deprecated. In future, it will be treated as `np.int64 == np.dtype(int).type`.\n",
            "  if np.issubdtype(vec.dtype, np.int):\n"
          ],
          "name": "stderr"
        },
        {
          "output_type": "execute_result",
          "data": {
            "text/plain": [
              "{'egypt': ['egyptians', 'pharaoh', 'bondage', 'rid', 'rod'],\n",
              " 'famine': ['pestilence', 'peril', 'blasting', 'overtaketh', 'mildew'],\n",
              " 'god': ['lord', 'worldly', 'sworn', 'ever', 'promised'],\n",
              " 'gospel': ['christ', 'faith', 'preach', 'afflictions', 'godly'],\n",
              " 'jesus': ['peter', 'messias', 'apostles', 'cross', 'synagogue'],\n",
              " 'john': ['baptist', 'james', 'devine', 'galilee', 'zebedee'],\n",
              " 'moses': ['congregation', 'children', 'elisheba', 'naashon', 'joshua'],\n",
              " 'noah': ['ham', 'shem', 'japheth', 'kenan', 'enosh']}"
            ]
          },
          "metadata": {
            "tags": []
          },
          "execution_count": 30
        }
      ]
    },
    {
      "cell_type": "markdown",
      "metadata": {
        "id": "TUcZI1Wl-GIb"
      },
      "source": [
        "Vamos a visualizar las palabras de interés y sus similares usando su presentación de embedding, después de reducir su dimensionalidad a un espacio 2D con t-SNE."
      ]
    },
    {
      "cell_type": "code",
      "metadata": {
        "id": "bKbDL62q-pgw"
      },
      "source": [
        "# Para reducir la dimensionalidad del word embedding\n",
        "from sklearn.manifold import TSNE"
      ],
      "execution_count": null,
      "outputs": []
    },
    {
      "cell_type": "code",
      "metadata": {
        "id": "gWy82APU-xih"
      },
      "source": [
        "# Obtenemos las palabras similares\n",
        "words = sum([[k] + v for k, v in similar_words.items()], [])\n",
        "wvs = w2v_model.wv[words]"
      ],
      "execution_count": null,
      "outputs": []
    },
    {
      "cell_type": "code",
      "metadata": {
        "id": "8ATK40Ax-5TG"
      },
      "source": [
        "# Reducimos la dimensionalidad\n",
        "tsne = TSNE(n_components=2, random_state=0, n_iter=10000, perplexity=2)\n",
        "np.set_printoptions(suppress=True)\n",
        "T = tsne.fit_transform(wvs)\n",
        "labels = words"
      ],
      "execution_count": null,
      "outputs": []
    },
    {
      "cell_type": "code",
      "metadata": {
        "id": "8fcatJ00-_F4",
        "outputId": "99ab2e68-8da7-472c-95f9-ec69910ec6da",
        "colab": {
          "base_uri": "https://localhost:8080/",
          "height": 486
        }
      },
      "source": [
        "# Visualizamos\n",
        "plt.figure(figsize=(14, 8))\n",
        "plt.scatter(T[:, 0], T[:, 1], c='orange', edgecolors='r')\n",
        "for label, x, y in zip(labels, T[:, 0], T[:, 1]):\n",
        "  plt.annotate(label, xy=(x+1, y+1), xytext=(0, 0), textcoords='offset points')"
      ],
      "execution_count": null,
      "outputs": [
        {
          "output_type": "display_data",
          "data": {
            "image/png": "[encoded data removed]",
            "text/plain": [
              "<Figure size 1008x576 with 1 Axes>"
            ]
          },
          "metadata": {
            "tags": []
          }
        }
      ]
    },
    {
      "cell_type": "markdown",
      "metadata": {
        "id": "DFGlpYEV_OWI"
      },
      "source": [
        "Como podemos observar las palabras similares aparecen cerca en este espacio formando grupos."
      ]
    },
    {
      "cell_type": "markdown",
      "metadata": {
        "id": "MUUBBPcx_gnT"
      },
      "source": [
        "#### Estrategia para la extracción de características con Word2vec\n",
        "\n",
        "Ahora que hemos entrenado el modelo Word2vec lo podremos utilizar para extraer las características de los documentos."
      ]
    },
    {
      "cell_type": "markdown",
      "metadata": {
        "id": "-DRjIFKvAcWH"
      },
      "source": [
        "Para obtener la representación de una palabra desde el modelo de embedding utilizamos una palabra como clave del diccionario wv dentro del modelo."
      ]
    },
    {
      "cell_type": "code",
      "metadata": {
        "id": "yz-rZkFOBQ5I",
        "outputId": "a8fcefdf-38ae-43be-97a3-7346d51ec2a7",
        "colab": {
          "base_uri": "https://localhost:8080/",
          "height": 408
        }
      },
      "source": [
        "# Obtenemos la representación de word embedding para la palabra sky\n",
        "w2v_model.wv[\"sky\"]"
      ],
      "execution_count": null,
      "outputs": [
        {
          "output_type": "execute_result",
          "data": {
            "text/plain": [
              "array([ 0.13906665, -0.09467818,  0.03351992,  0.27260017,  0.5489181 ,\n",
              "        0.09396461,  0.27909434,  0.02730848, -0.5168682 , -0.74485075,\n",
              "        0.35855186,  0.26168385,  0.40251988,  0.04674069,  0.08227883,\n",
              "        0.06284666,  0.40914953, -0.868972  , -0.46806145, -0.20395283,\n",
              "        0.26269644, -0.16583093,  0.21720047, -1.1470268 ,  0.64572006,\n",
              "        0.2179737 ,  0.57766604, -0.07732975,  0.10162247,  0.35236475,\n",
              "       -0.3371417 ,  0.17316462,  0.3121608 , -0.15885124,  0.5577189 ,\n",
              "       -0.53220177, -0.43150327,  1.1746895 , -0.5024037 ,  0.15712567,\n",
              "       -0.12766321, -0.20109402,  0.43525183, -0.17893094, -0.8144733 ,\n",
              "       -0.79684144,  0.8236569 , -0.2813059 , -0.64945453, -0.22779943,\n",
              "       -0.67609227, -0.24860808,  0.29617646,  0.40474543,  1.1627791 ,\n",
              "       -0.66091585, -0.12663774, -0.6829365 , -0.41497838, -0.23677988,\n",
              "       -0.22100426,  0.7180309 , -0.00584291,  0.3720943 ,  0.40510976,\n",
              "        0.24102566, -0.653215  , -0.67209685, -0.78019905, -0.20582074,\n",
              "       -0.1092019 , -0.1119693 , -0.30541286, -0.2766395 ,  0.23444594,\n",
              "        0.12381047, -0.22674288, -0.36346775,  0.34215885, -0.47185963,\n",
              "       -1.1744652 ,  0.50694203,  0.07966118,  0.2510521 , -0.2673603 ,\n",
              "       -0.24781932,  0.45597804, -0.6724422 ,  0.05680818,  0.0187033 ,\n",
              "        0.9085017 ,  0.45798045, -0.5145227 ,  0.11709376, -0.21737182,\n",
              "        0.62661904,  0.02821464,  0.92149484, -0.5969242 , -0.4156528 ],\n",
              "      dtype=float32)"
            ]
          },
          "metadata": {
            "tags": []
          },
          "execution_count": 36
        }
      ]
    },
    {
      "cell_type": "markdown",
      "metadata": {
        "id": "1VLCho0oBfji"
      },
      "source": [
        "Debido a que cada documento puede tener un numero distinto de palabras una estrategia muy común para obtener la representación Word2vec a escala de documento es extraer la representación de cada palabra en el documento y promediar estas representaciones dado que todas ellas tienen la misma dimensión."
      ]
    },
    {
      "cell_type": "code",
      "metadata": {
        "id": "zfHaX4qzCYMu"
      },
      "source": [
        "# Función para extraer características a nivel de documento\n",
        "def average_word_vectors(words, model, vocabulary, num_features):\n",
        "  feature_vector = np.zeros((num_features,),dtype=\"float64\")\n",
        "  nwords = 0.\n",
        "  for word in words:\n",
        "    if word in vocabulary:\n",
        "      nwords = nwords + 1.\n",
        "      feature_vector = np.add(feature_vector, model[word])\n",
        "  if nwords:\n",
        "    feature_vector = np.divide(feature_vector, nwords)\n",
        "  return feature_vector"
      ],
      "execution_count": null,
      "outputs": []
    },
    {
      "cell_type": "code",
      "metadata": {
        "id": "0kIm0JknCulS"
      },
      "source": [
        "# Función vectorizada para aplicarla al corpus entero\n",
        "def averaged_word_vectorizer(corpus, model, num_features):\n",
        "  vocabulary = set(model.wv.index2word)\n",
        "  features = [average_word_vectors(tokenized_sentence, model, vocabulary, num_features) for tokenized_sentence in corpus]\n",
        "  return np.array(features)"
      ],
      "execution_count": null,
      "outputs": []
    },
    {
      "cell_type": "code",
      "metadata": {
        "id": "kKbFTXk9C_1b",
        "outputId": "1c464cf2-7ae5-494c-dfb6-51230c90e99c",
        "colab": {
          "base_uri": "https://localhost:8080/",
          "height": 292
        }
      },
      "source": [
        "# Aplicamos al corpus de la biblia\n",
        "w2v_feature_array = averaged_word_vectorizer(corpus=tokenized_corpus,\n",
        "model=w2v_model, num_features=feature_size)\n",
        "# Visualizamos algunas de las representaciones\n",
        "pd.DataFrame(w2v_feature_array).head(5)"
      ],
      "execution_count": null,
      "outputs": [
        {
          "output_type": "stream",
          "text": [
            "/usr/local/lib/python3.6/dist-packages/ipykernel_launcher.py:7: DeprecationWarning: Call to deprecated `__getitem__` (Method will be removed in 4.0.0, use self.wv.__getitem__() instead).\n",
            "  import sys\n"
          ],
          "name": "stderr"
        },
        {
          "output_type": "execute_result",
          "data": {
            "text/html": [
              "<div>\n",
              "<style scoped>\n",
              "    .dataframe tbody tr th:only-of-type {\n",
              "        vertical-align: middle;\n",
              "    }\n",
              "\n",
              "    .dataframe tbody tr th {\n",
              "        vertical-align: top;\n",
              "    }\n",
              "\n",
              "    .dataframe thead th {\n",
              "        text-align: right;\n",
              "    }\n",
              "</style>\n",
              "<table border=\"1\" class=\"dataframe\">\n",
              "  <thead>\n",
              "    <tr style=\"text-align: right;\">\n",
              "      <th></th>\n",
              "      <th>0</th>\n",
              "      <th>1</th>\n",
              "      <th>2</th>\n",
              "      <th>3</th>\n",
              "      <th>4</th>\n",
              "      <th>5</th>\n",
              "      <th>6</th>\n",
              "      <th>7</th>\n",
              "      <th>8</th>\n",
              "      <th>9</th>\n",
              "      <th>10</th>\n",
              "      <th>11</th>\n",
              "      <th>12</th>\n",
              "      <th>13</th>\n",
              "      <th>14</th>\n",
              "      <th>15</th>\n",
              "      <th>16</th>\n",
              "      <th>17</th>\n",
              "      <th>18</th>\n",
              "      <th>19</th>\n",
              "      <th>20</th>\n",
              "      <th>21</th>\n",
              "      <th>22</th>\n",
              "      <th>23</th>\n",
              "      <th>24</th>\n",
              "      <th>25</th>\n",
              "      <th>26</th>\n",
              "      <th>27</th>\n",
              "      <th>28</th>\n",
              "      <th>29</th>\n",
              "      <th>30</th>\n",
              "      <th>31</th>\n",
              "      <th>32</th>\n",
              "      <th>33</th>\n",
              "      <th>34</th>\n",
              "      <th>35</th>\n",
              "      <th>36</th>\n",
              "      <th>37</th>\n",
              "      <th>38</th>\n",
              "      <th>39</th>\n",
              "      <th>...</th>\n",
              "      <th>60</th>\n",
              "      <th>61</th>\n",
              "      <th>62</th>\n",
              "      <th>63</th>\n",
              "      <th>64</th>\n",
              "      <th>65</th>\n",
              "      <th>66</th>\n",
              "      <th>67</th>\n",
              "      <th>68</th>\n",
              "      <th>69</th>\n",
              "      <th>70</th>\n",
              "      <th>71</th>\n",
              "      <th>72</th>\n",
              "      <th>73</th>\n",
              "      <th>74</th>\n",
              "      <th>75</th>\n",
              "      <th>76</th>\n",
              "      <th>77</th>\n",
              "      <th>78</th>\n",
              "      <th>79</th>\n",
              "      <th>80</th>\n",
              "      <th>81</th>\n",
              "      <th>82</th>\n",
              "      <th>83</th>\n",
              "      <th>84</th>\n",
              "      <th>85</th>\n",
              "      <th>86</th>\n",
              "      <th>87</th>\n",
              "      <th>88</th>\n",
              "      <th>89</th>\n",
              "      <th>90</th>\n",
              "      <th>91</th>\n",
              "      <th>92</th>\n",
              "      <th>93</th>\n",
              "      <th>94</th>\n",
              "      <th>95</th>\n",
              "      <th>96</th>\n",
              "      <th>97</th>\n",
              "      <th>98</th>\n",
              "      <th>99</th>\n",
              "    </tr>\n",
              "  </thead>\n",
              "  <tbody>\n",
              "    <tr>\n",
              "      <th>0</th>\n",
              "      <td>1.532842</td>\n",
              "      <td>0.140309</td>\n",
              "      <td>-0.333336</td>\n",
              "      <td>-0.784747</td>\n",
              "      <td>-1.827758</td>\n",
              "      <td>-0.151597</td>\n",
              "      <td>0.354927</td>\n",
              "      <td>0.410041</td>\n",
              "      <td>0.290936</td>\n",
              "      <td>1.486643</td>\n",
              "      <td>-0.961085</td>\n",
              "      <td>-2.082458</td>\n",
              "      <td>0.287470</td>\n",
              "      <td>-0.376133</td>\n",
              "      <td>-0.557385</td>\n",
              "      <td>-0.603392</td>\n",
              "      <td>0.823411</td>\n",
              "      <td>-1.134902</td>\n",
              "      <td>-0.813035</td>\n",
              "      <td>0.138361</td>\n",
              "      <td>-0.622539</td>\n",
              "      <td>-0.884037</td>\n",
              "      <td>0.589443</td>\n",
              "      <td>0.599244</td>\n",
              "      <td>-0.434928</td>\n",
              "      <td>-0.056931</td>\n",
              "      <td>0.386877</td>\n",
              "      <td>-1.304629</td>\n",
              "      <td>-0.071916</td>\n",
              "      <td>0.017805</td>\n",
              "      <td>1.067952</td>\n",
              "      <td>0.442997</td>\n",
              "      <td>-0.683415</td>\n",
              "      <td>0.290482</td>\n",
              "      <td>1.373441</td>\n",
              "      <td>-1.414913</td>\n",
              "      <td>0.884743</td>\n",
              "      <td>-1.262567</td>\n",
              "      <td>-0.289415</td>\n",
              "      <td>0.488108</td>\n",
              "      <td>...</td>\n",
              "      <td>1.120048</td>\n",
              "      <td>0.630364</td>\n",
              "      <td>0.122726</td>\n",
              "      <td>2.031761</td>\n",
              "      <td>-0.055893</td>\n",
              "      <td>1.448713</td>\n",
              "      <td>-0.204678</td>\n",
              "      <td>-1.870695</td>\n",
              "      <td>1.644773</td>\n",
              "      <td>-0.742985</td>\n",
              "      <td>-0.930501</td>\n",
              "      <td>-0.460158</td>\n",
              "      <td>0.054655</td>\n",
              "      <td>0.811828</td>\n",
              "      <td>-0.217333</td>\n",
              "      <td>0.674517</td>\n",
              "      <td>-1.108662</td>\n",
              "      <td>0.303383</td>\n",
              "      <td>-1.125366</td>\n",
              "      <td>-0.676069</td>\n",
              "      <td>-0.108096</td>\n",
              "      <td>0.499318</td>\n",
              "      <td>1.253587</td>\n",
              "      <td>0.262793</td>\n",
              "      <td>1.154885</td>\n",
              "      <td>1.690642</td>\n",
              "      <td>0.813351</td>\n",
              "      <td>0.820589</td>\n",
              "      <td>-0.642775</td>\n",
              "      <td>0.282380</td>\n",
              "      <td>0.149251</td>\n",
              "      <td>-0.265953</td>\n",
              "      <td>-0.056582</td>\n",
              "      <td>-0.476263</td>\n",
              "      <td>1.273418</td>\n",
              "      <td>-0.937739</td>\n",
              "      <td>-1.323298</td>\n",
              "      <td>0.769732</td>\n",
              "      <td>-0.485300</td>\n",
              "      <td>-0.568739</td>\n",
              "    </tr>\n",
              "    <tr>\n",
              "      <th>1</th>\n",
              "      <td>0.666762</td>\n",
              "      <td>-0.143794</td>\n",
              "      <td>-0.442963</td>\n",
              "      <td>-0.576690</td>\n",
              "      <td>-1.275354</td>\n",
              "      <td>-0.998174</td>\n",
              "      <td>-0.146759</td>\n",
              "      <td>0.879924</td>\n",
              "      <td>1.341365</td>\n",
              "      <td>0.978886</td>\n",
              "      <td>-0.231094</td>\n",
              "      <td>-1.644314</td>\n",
              "      <td>-0.491945</td>\n",
              "      <td>0.215222</td>\n",
              "      <td>-0.486480</td>\n",
              "      <td>-1.106724</td>\n",
              "      <td>1.022923</td>\n",
              "      <td>-0.049618</td>\n",
              "      <td>-0.127286</td>\n",
              "      <td>0.517970</td>\n",
              "      <td>-0.734609</td>\n",
              "      <td>-0.998370</td>\n",
              "      <td>0.787060</td>\n",
              "      <td>1.272580</td>\n",
              "      <td>0.203808</td>\n",
              "      <td>-0.777243</td>\n",
              "      <td>-0.005262</td>\n",
              "      <td>-2.358310</td>\n",
              "      <td>-0.095952</td>\n",
              "      <td>0.381502</td>\n",
              "      <td>0.247634</td>\n",
              "      <td>0.224625</td>\n",
              "      <td>-0.227950</td>\n",
              "      <td>0.032097</td>\n",
              "      <td>0.795232</td>\n",
              "      <td>0.418362</td>\n",
              "      <td>0.278678</td>\n",
              "      <td>-0.541234</td>\n",
              "      <td>-0.791549</td>\n",
              "      <td>-0.088832</td>\n",
              "      <td>...</td>\n",
              "      <td>0.227955</td>\n",
              "      <td>0.117184</td>\n",
              "      <td>0.058699</td>\n",
              "      <td>0.700803</td>\n",
              "      <td>-0.144747</td>\n",
              "      <td>1.083683</td>\n",
              "      <td>-1.126977</td>\n",
              "      <td>-1.867141</td>\n",
              "      <td>0.658834</td>\n",
              "      <td>-1.601521</td>\n",
              "      <td>0.135908</td>\n",
              "      <td>0.596416</td>\n",
              "      <td>-0.028338</td>\n",
              "      <td>-0.985066</td>\n",
              "      <td>0.402256</td>\n",
              "      <td>0.406297</td>\n",
              "      <td>0.277601</td>\n",
              "      <td>0.492491</td>\n",
              "      <td>0.411785</td>\n",
              "      <td>-0.148689</td>\n",
              "      <td>-0.476687</td>\n",
              "      <td>0.025912</td>\n",
              "      <td>0.311097</td>\n",
              "      <td>0.507197</td>\n",
              "      <td>0.201139</td>\n",
              "      <td>1.562022</td>\n",
              "      <td>1.125666</td>\n",
              "      <td>0.072363</td>\n",
              "      <td>-0.018190</td>\n",
              "      <td>0.685370</td>\n",
              "      <td>0.452535</td>\n",
              "      <td>-0.471679</td>\n",
              "      <td>-0.023094</td>\n",
              "      <td>-0.337895</td>\n",
              "      <td>0.363903</td>\n",
              "      <td>-0.307778</td>\n",
              "      <td>-0.617991</td>\n",
              "      <td>0.997004</td>\n",
              "      <td>-0.629949</td>\n",
              "      <td>-0.566559</td>\n",
              "    </tr>\n",
              "    <tr>\n",
              "      <th>2</th>\n",
              "      <td>1.069362</td>\n",
              "      <td>-0.233245</td>\n",
              "      <td>-0.707548</td>\n",
              "      <td>-0.405131</td>\n",
              "      <td>-0.866063</td>\n",
              "      <td>0.839984</td>\n",
              "      <td>1.651828</td>\n",
              "      <td>0.202760</td>\n",
              "      <td>-0.172361</td>\n",
              "      <td>0.012175</td>\n",
              "      <td>0.314611</td>\n",
              "      <td>-0.378888</td>\n",
              "      <td>-1.195380</td>\n",
              "      <td>2.153757</td>\n",
              "      <td>0.776169</td>\n",
              "      <td>1.435112</td>\n",
              "      <td>0.446506</td>\n",
              "      <td>0.619781</td>\n",
              "      <td>0.202351</td>\n",
              "      <td>0.837998</td>\n",
              "      <td>-1.247207</td>\n",
              "      <td>-1.373395</td>\n",
              "      <td>0.200648</td>\n",
              "      <td>-1.422069</td>\n",
              "      <td>-0.544383</td>\n",
              "      <td>0.661354</td>\n",
              "      <td>1.316703</td>\n",
              "      <td>-0.681727</td>\n",
              "      <td>0.473052</td>\n",
              "      <td>-0.495689</td>\n",
              "      <td>1.304235</td>\n",
              "      <td>-1.088760</td>\n",
              "      <td>-0.257970</td>\n",
              "      <td>-0.903322</td>\n",
              "      <td>-1.168772</td>\n",
              "      <td>1.285644</td>\n",
              "      <td>0.115640</td>\n",
              "      <td>0.490505</td>\n",
              "      <td>-0.476049</td>\n",
              "      <td>0.914780</td>\n",
              "      <td>...</td>\n",
              "      <td>0.525266</td>\n",
              "      <td>-1.179180</td>\n",
              "      <td>0.582951</td>\n",
              "      <td>-1.695184</td>\n",
              "      <td>-0.632616</td>\n",
              "      <td>2.306023</td>\n",
              "      <td>2.140273</td>\n",
              "      <td>1.473589</td>\n",
              "      <td>-1.012092</td>\n",
              "      <td>0.353060</td>\n",
              "      <td>-1.457367</td>\n",
              "      <td>1.477214</td>\n",
              "      <td>-0.500333</td>\n",
              "      <td>0.937077</td>\n",
              "      <td>1.073265</td>\n",
              "      <td>1.860083</td>\n",
              "      <td>0.544829</td>\n",
              "      <td>-0.845580</td>\n",
              "      <td>1.275040</td>\n",
              "      <td>-0.099287</td>\n",
              "      <td>-1.041283</td>\n",
              "      <td>0.112604</td>\n",
              "      <td>0.885988</td>\n",
              "      <td>0.506146</td>\n",
              "      <td>-0.386344</td>\n",
              "      <td>0.706634</td>\n",
              "      <td>0.598918</td>\n",
              "      <td>0.722697</td>\n",
              "      <td>1.182420</td>\n",
              "      <td>1.124700</td>\n",
              "      <td>0.792663</td>\n",
              "      <td>-1.249455</td>\n",
              "      <td>-0.581341</td>\n",
              "      <td>-1.374341</td>\n",
              "      <td>0.337161</td>\n",
              "      <td>-0.357903</td>\n",
              "      <td>-0.434465</td>\n",
              "      <td>0.016996</td>\n",
              "      <td>-0.042338</td>\n",
              "      <td>1.655730</td>\n",
              "    </tr>\n",
              "    <tr>\n",
              "      <th>3</th>\n",
              "      <td>-0.976323</td>\n",
              "      <td>-1.551348</td>\n",
              "      <td>-0.806916</td>\n",
              "      <td>0.091348</td>\n",
              "      <td>-0.281060</td>\n",
              "      <td>0.707184</td>\n",
              "      <td>1.612100</td>\n",
              "      <td>0.639998</td>\n",
              "      <td>1.892194</td>\n",
              "      <td>-2.855943</td>\n",
              "      <td>1.089907</td>\n",
              "      <td>0.698763</td>\n",
              "      <td>0.089840</td>\n",
              "      <td>0.616718</td>\n",
              "      <td>0.904314</td>\n",
              "      <td>-0.962115</td>\n",
              "      <td>0.796160</td>\n",
              "      <td>-1.540566</td>\n",
              "      <td>-0.951313</td>\n",
              "      <td>-1.512815</td>\n",
              "      <td>-2.225848</td>\n",
              "      <td>0.219198</td>\n",
              "      <td>1.527213</td>\n",
              "      <td>-1.101838</td>\n",
              "      <td>-0.542287</td>\n",
              "      <td>-1.723024</td>\n",
              "      <td>1.931434</td>\n",
              "      <td>0.070675</td>\n",
              "      <td>-1.436893</td>\n",
              "      <td>0.074469</td>\n",
              "      <td>-0.946199</td>\n",
              "      <td>0.288246</td>\n",
              "      <td>-0.193207</td>\n",
              "      <td>-2.502442</td>\n",
              "      <td>-0.868171</td>\n",
              "      <td>0.670265</td>\n",
              "      <td>-0.873386</td>\n",
              "      <td>0.041233</td>\n",
              "      <td>0.061845</td>\n",
              "      <td>0.397624</td>\n",
              "      <td>...</td>\n",
              "      <td>-2.388051</td>\n",
              "      <td>0.258765</td>\n",
              "      <td>0.206220</td>\n",
              "      <td>1.019654</td>\n",
              "      <td>0.379899</td>\n",
              "      <td>0.216348</td>\n",
              "      <td>-0.527735</td>\n",
              "      <td>0.743787</td>\n",
              "      <td>0.146710</td>\n",
              "      <td>-1.255293</td>\n",
              "      <td>-0.048208</td>\n",
              "      <td>-1.226158</td>\n",
              "      <td>-1.530687</td>\n",
              "      <td>-1.510438</td>\n",
              "      <td>1.230017</td>\n",
              "      <td>-0.414763</td>\n",
              "      <td>-0.098846</td>\n",
              "      <td>0.218546</td>\n",
              "      <td>-0.880817</td>\n",
              "      <td>-0.287900</td>\n",
              "      <td>0.479283</td>\n",
              "      <td>-0.359908</td>\n",
              "      <td>0.209833</td>\n",
              "      <td>1.040364</td>\n",
              "      <td>-0.060657</td>\n",
              "      <td>1.645617</td>\n",
              "      <td>1.812268</td>\n",
              "      <td>-0.333812</td>\n",
              "      <td>1.613451</td>\n",
              "      <td>1.614318</td>\n",
              "      <td>-0.391445</td>\n",
              "      <td>-0.685564</td>\n",
              "      <td>-0.604894</td>\n",
              "      <td>1.555282</td>\n",
              "      <td>-1.473485</td>\n",
              "      <td>-0.965220</td>\n",
              "      <td>0.972768</td>\n",
              "      <td>0.143044</td>\n",
              "      <td>1.113312</td>\n",
              "      <td>-0.068937</td>\n",
              "    </tr>\n",
              "    <tr>\n",
              "      <th>4</th>\n",
              "      <td>-1.206243</td>\n",
              "      <td>0.055220</td>\n",
              "      <td>-0.024269</td>\n",
              "      <td>1.154566</td>\n",
              "      <td>0.384821</td>\n",
              "      <td>0.923375</td>\n",
              "      <td>0.542934</td>\n",
              "      <td>0.061543</td>\n",
              "      <td>0.978539</td>\n",
              "      <td>-2.532515</td>\n",
              "      <td>0.328963</td>\n",
              "      <td>-0.089059</td>\n",
              "      <td>-1.015339</td>\n",
              "      <td>-0.616124</td>\n",
              "      <td>-0.677737</td>\n",
              "      <td>0.332761</td>\n",
              "      <td>-0.410661</td>\n",
              "      <td>-1.283385</td>\n",
              "      <td>0.541153</td>\n",
              "      <td>-0.869652</td>\n",
              "      <td>-0.952599</td>\n",
              "      <td>0.342414</td>\n",
              "      <td>0.373662</td>\n",
              "      <td>-0.063580</td>\n",
              "      <td>0.430808</td>\n",
              "      <td>-1.422466</td>\n",
              "      <td>1.846456</td>\n",
              "      <td>1.273539</td>\n",
              "      <td>0.432351</td>\n",
              "      <td>1.459942</td>\n",
              "      <td>-0.417334</td>\n",
              "      <td>0.672892</td>\n",
              "      <td>-0.912072</td>\n",
              "      <td>-0.649610</td>\n",
              "      <td>-0.283379</td>\n",
              "      <td>0.199266</td>\n",
              "      <td>-1.628320</td>\n",
              "      <td>1.010332</td>\n",
              "      <td>0.823642</td>\n",
              "      <td>-0.885436</td>\n",
              "      <td>...</td>\n",
              "      <td>-0.887001</td>\n",
              "      <td>0.765091</td>\n",
              "      <td>0.347362</td>\n",
              "      <td>-0.119907</td>\n",
              "      <td>1.155579</td>\n",
              "      <td>-0.634465</td>\n",
              "      <td>0.412195</td>\n",
              "      <td>1.427624</td>\n",
              "      <td>-0.324900</td>\n",
              "      <td>-0.801008</td>\n",
              "      <td>-0.512062</td>\n",
              "      <td>-0.765594</td>\n",
              "      <td>-0.033555</td>\n",
              "      <td>-0.194099</td>\n",
              "      <td>0.529777</td>\n",
              "      <td>1.102575</td>\n",
              "      <td>-0.289583</td>\n",
              "      <td>-0.467591</td>\n",
              "      <td>-0.388407</td>\n",
              "      <td>0.457916</td>\n",
              "      <td>-0.331597</td>\n",
              "      <td>0.318833</td>\n",
              "      <td>0.121515</td>\n",
              "      <td>0.215371</td>\n",
              "      <td>-0.086138</td>\n",
              "      <td>1.056007</td>\n",
              "      <td>0.904831</td>\n",
              "      <td>0.428567</td>\n",
              "      <td>1.165235</td>\n",
              "      <td>-0.155509</td>\n",
              "      <td>0.914150</td>\n",
              "      <td>-0.211434</td>\n",
              "      <td>0.433467</td>\n",
              "      <td>0.381900</td>\n",
              "      <td>-0.360295</td>\n",
              "      <td>0.397423</td>\n",
              "      <td>0.536779</td>\n",
              "      <td>0.193482</td>\n",
              "      <td>-0.254351</td>\n",
              "      <td>-0.236691</td>\n",
              "    </tr>\n",
              "  </tbody>\n",
              "</table>\n",
              "<p>5 rows × 100 columns</p>\n",
              "</div>"
            ],
            "text/plain": [
              "         0         1         2   ...        97        98        99\n",
              "0  1.532842  0.140309 -0.333336  ...  0.769732 -0.485300 -0.568739\n",
              "1  0.666762 -0.143794 -0.442963  ...  0.997004 -0.629949 -0.566559\n",
              "2  1.069362 -0.233245 -0.707548  ...  0.016996 -0.042338  1.655730\n",
              "3 -0.976323 -1.551348 -0.806916  ...  0.143044  1.113312 -0.068937\n",
              "4 -1.206243  0.055220 -0.024269  ...  0.193482 -0.254351 -0.236691\n",
              "\n",
              "[5 rows x 100 columns]"
            ]
          },
          "metadata": {
            "tags": []
          },
          "execution_count": 40
        }
      ]
    }
  ]
}